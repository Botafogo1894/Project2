{
 "cells": [
  {
   "cell_type": "markdown",
   "metadata": {},
   "source": [
    "##### Importing suicide statistics from WHO API"
   ]
  },
  {
   "cell_type": "code",
   "execution_count": 1,
   "metadata": {},
   "outputs": [],
   "source": [
    "import requests\n",
    "import json\n",
    "import pandas as pd\n",
    "r = requests.get('http://apps.who.int/gho/athena/api/GHO/MH_12/.json?filter=Year:2016')\n",
    "data = r.json()"
   ]
  },
  {
   "cell_type": "markdown",
   "metadata": {},
   "source": [
    "##### Converting JSON data to Python List"
   ]
  },
  {
   "cell_type": "code",
   "execution_count": 2,
   "metadata": {},
   "outputs": [],
   "source": [
    "list_of_data = []\n",
    "for fact in data['fact']:\n",
    "    for category in fact['Dim']:\n",
    "        if category['category'] == 'COUNTRY':\n",
    "            country_code = category['code']\n",
    "        elif category['category'] == \"SEX\":\n",
    "            sex = category['code']\n",
    "    suicide_rate = fact['value']['numeric']\n",
    "    list_of_data.append({'Country Code': country_code, 'Sex': sex, \"Suicide Rate\": suicide_rate})\n",
    "\n",
    "country_codes = []\n",
    "for country in list_of_data:\n",
    "    country_codes.append(country['Country Code'])\n",
    "\n",
    "country_codes = set(country_codes)\n",
    "\n",
    "data_dictionary = []\n",
    "for country in country_codes:\n",
    "    data_dictionary.append({'Country Code': country, 'Male Suicide Rate':'', 'Female Suicide Rate':'', 'Combined Suicide Rate':''})"
   ]
  },
  {
   "cell_type": "markdown",
   "metadata": {},
   "source": [
    "##### creating Python list with dictionary for each country"
   ]
  },
  {
   "cell_type": "code",
   "execution_count": 3,
   "metadata": {},
   "outputs": [],
   "source": [
    "for data in list_of_data:\n",
    "    for country in data_dictionary:\n",
    "        if data['Country Code'] == country['Country Code']:\n",
    "            if data['Sex'] == 'MLE':\n",
    "                country['Male Suicide Rate'] = data['Suicide Rate']\n",
    "            elif data['Sex'] == \"FMLE\":\n",
    "                country['Female Suicide Rate'] = data['Suicide Rate']\n",
    "            elif data['Sex'] == 'BTSX':\n",
    "                country['Combined Suicide Rate'] = data['Suicide Rate']"
   ]
  },
  {
   "cell_type": "markdown",
   "metadata": {},
   "source": [
    "###### Converting to Pandas DataFrame"
   ]
  },
  {
   "cell_type": "code",
   "execution_count": 4,
   "metadata": {},
   "outputs": [],
   "source": [
    "suicide_rates = pd.DataFrame.from_dict(data_dictionary,)\n",
    "suicide_rates.set_index(['Country Code'], inplace=True)\n",
    "suicide_rates.sort_index(inplace=True)"
   ]
  },
  {
   "cell_type": "code",
   "execution_count": 5,
   "metadata": {
    "scrolled": true
   },
   "outputs": [
    {
     "data": {
      "text/html": [
       "<div>\n",
       "<style scoped>\n",
       "    .dataframe tbody tr th:only-of-type {\n",
       "        vertical-align: middle;\n",
       "    }\n",
       "\n",
       "    .dataframe tbody tr th {\n",
       "        vertical-align: top;\n",
       "    }\n",
       "\n",
       "    .dataframe thead th {\n",
       "        text-align: right;\n",
       "    }\n",
       "</style>\n",
       "<table border=\"1\" class=\"dataframe\">\n",
       "  <thead>\n",
       "    <tr style=\"text-align: right;\">\n",
       "      <th></th>\n",
       "      <th>Combined Suicide Rate</th>\n",
       "      <th>Female Suicide Rate</th>\n",
       "      <th>Male Suicide Rate</th>\n",
       "    </tr>\n",
       "    <tr>\n",
       "      <th>Country Code</th>\n",
       "      <th></th>\n",
       "      <th></th>\n",
       "      <th></th>\n",
       "    </tr>\n",
       "  </thead>\n",
       "  <tbody>\n",
       "    <tr>\n",
       "      <th>AFG</th>\n",
       "      <td>6.4</td>\n",
       "      <td>2.1</td>\n",
       "      <td>10.6</td>\n",
       "    </tr>\n",
       "    <tr>\n",
       "      <th>AGO</th>\n",
       "      <td>8.9</td>\n",
       "      <td>4.6</td>\n",
       "      <td>14.0</td>\n",
       "    </tr>\n",
       "    <tr>\n",
       "      <th>ALB</th>\n",
       "      <td>5.6</td>\n",
       "      <td>4.3</td>\n",
       "      <td>7.0</td>\n",
       "    </tr>\n",
       "    <tr>\n",
       "      <th>ARE</th>\n",
       "      <td>2.7</td>\n",
       "      <td>0.8</td>\n",
       "      <td>3.5</td>\n",
       "    </tr>\n",
       "    <tr>\n",
       "      <th>ARG</th>\n",
       "      <td>9.1</td>\n",
       "      <td>3.5</td>\n",
       "      <td>15.0</td>\n",
       "    </tr>\n",
       "  </tbody>\n",
       "</table>\n",
       "</div>"
      ],
      "text/plain": [
       "              Combined Suicide Rate  Female Suicide Rate  Male Suicide Rate\n",
       "Country Code                                                               \n",
       "AFG                             6.4                  2.1               10.6\n",
       "AGO                             8.9                  4.6               14.0\n",
       "ALB                             5.6                  4.3                7.0\n",
       "ARE                             2.7                  0.8                3.5\n",
       "ARG                             9.1                  3.5               15.0"
      ]
     },
     "execution_count": 5,
     "metadata": {},
     "output_type": "execute_result"
    }
   ],
   "source": [
    "suicide_rates.head()"
   ]
  },
  {
   "cell_type": "markdown",
   "metadata": {},
   "source": [
    "##### Adding Country name Data and cleaning"
   ]
  },
  {
   "cell_type": "code",
   "execution_count": 6,
   "metadata": {},
   "outputs": [],
   "source": [
    "r = requests.get('http://apps.who.int/gho/athena/api/GHO/MH_12/.json?filter=Year:2016')\n",
    "data = r.json()\n",
    "country_names = []\n",
    "for country in data['dimension'][4]['code']:\n",
    "    country_names.append({'Country Code': country['label'], 'Country Name': country['display']})\n",
    "\n",
    "country_names_df = pd.DataFrame.from_dict(country_names)\n",
    "country_names_df.set_index('Country Code', inplace=True)\n",
    "\n",
    "country_names_df.loc[country_names_df.index == \"MLT\"]\n",
    "\n",
    "# clean Up Country Names\n",
    "country_names_df.loc[country_names_df['Country Name'] == \"Democratic People's Republic of Korea\"] = \"North Korea\"\n",
    "country_names_df.loc[country_names_df['Country Name'] == \"The former Yugoslav republic of Macedonia\"] = \"Macedonia\"\n",
    "country_names_df.loc[country_names_df['Country Name'] == \"Republic of Moldova\"] = \"Moldova\"\n",
    "country_names_df.loc[country_names_df['Country Name'] == \"Iran (Islamic Republic of)\"] = \"Iran\"\n",
    "country_names_df.loc[country_names_df['Country Name'] == \"Russian Federation\"] = \"Russia\"\n",
    "country_names_df.loc[country_names_df['Country Name'] == \"United Kingdom of Great Britain and Northern Ireland\"] = \"United Kingdom\"\n",
    "country_names_df.loc[country_names_df['Country Name'] == \"Venezuela (Bolivarian Republic of)\"] = \"Venezuela\"\n",
    "country_names_df.loc[country_names_df['Country Name'] == \"United States of America\"] = \"United States\"\n",
    "\n",
    "country_names_df.tail(15)\n",
    "\n",
    "suicide_rates = suicide_rates.join(country_names_df)\n",
    "# suicide_rates"
   ]
  },
  {
   "cell_type": "markdown",
   "metadata": {},
   "source": [
    "###### Adding country names"
   ]
  },
  {
   "cell_type": "code",
   "execution_count": 7,
   "metadata": {},
   "outputs": [
    {
     "data": {
      "text/html": [
       "<div>\n",
       "<style scoped>\n",
       "    .dataframe tbody tr th:only-of-type {\n",
       "        vertical-align: middle;\n",
       "    }\n",
       "\n",
       "    .dataframe tbody tr th {\n",
       "        vertical-align: top;\n",
       "    }\n",
       "\n",
       "    .dataframe thead th {\n",
       "        text-align: right;\n",
       "    }\n",
       "</style>\n",
       "<table border=\"1\" class=\"dataframe\">\n",
       "  <thead>\n",
       "    <tr style=\"text-align: right;\">\n",
       "      <th></th>\n",
       "      <th>Country Name</th>\n",
       "      <th>Combined Suicide Rate</th>\n",
       "      <th>Male Suicide Rate</th>\n",
       "      <th>Female Suicide Rate</th>\n",
       "    </tr>\n",
       "    <tr>\n",
       "      <th>Country Code</th>\n",
       "      <th></th>\n",
       "      <th></th>\n",
       "      <th></th>\n",
       "      <th></th>\n",
       "    </tr>\n",
       "  </thead>\n",
       "  <tbody>\n",
       "    <tr>\n",
       "      <th>AFG</th>\n",
       "      <td>Afghanistan</td>\n",
       "      <td>6.4</td>\n",
       "      <td>10.6</td>\n",
       "      <td>2.1</td>\n",
       "    </tr>\n",
       "    <tr>\n",
       "      <th>AGO</th>\n",
       "      <td>Angola</td>\n",
       "      <td>8.9</td>\n",
       "      <td>14.0</td>\n",
       "      <td>4.6</td>\n",
       "    </tr>\n",
       "    <tr>\n",
       "      <th>ALB</th>\n",
       "      <td>Albania</td>\n",
       "      <td>5.6</td>\n",
       "      <td>7.0</td>\n",
       "      <td>4.3</td>\n",
       "    </tr>\n",
       "    <tr>\n",
       "      <th>ARE</th>\n",
       "      <td>United Arab Emirates</td>\n",
       "      <td>2.7</td>\n",
       "      <td>3.5</td>\n",
       "      <td>0.8</td>\n",
       "    </tr>\n",
       "    <tr>\n",
       "      <th>ARG</th>\n",
       "      <td>Argentina</td>\n",
       "      <td>9.1</td>\n",
       "      <td>15.0</td>\n",
       "      <td>3.5</td>\n",
       "    </tr>\n",
       "  </tbody>\n",
       "</table>\n",
       "</div>"
      ],
      "text/plain": [
       "                      Country Name  Combined Suicide Rate  Male Suicide Rate  \\\n",
       "Country Code                                                                   \n",
       "AFG                    Afghanistan                    6.4               10.6   \n",
       "AGO                         Angola                    8.9               14.0   \n",
       "ALB                        Albania                    5.6                7.0   \n",
       "ARE           United Arab Emirates                    2.7                3.5   \n",
       "ARG                      Argentina                    9.1               15.0   \n",
       "\n",
       "              Female Suicide Rate  \n",
       "Country Code                       \n",
       "AFG                           2.1  \n",
       "AGO                           4.6  \n",
       "ALB                           4.3  \n",
       "ARE                           0.8  \n",
       "ARG                           3.5  "
      ]
     },
     "execution_count": 7,
     "metadata": {},
     "output_type": "execute_result"
    }
   ],
   "source": [
    "suicide_rates = suicide_rates[['Country Name', 'Combined Suicide Rate', 'Male Suicide Rate', 'Female Suicide Rate']]\n",
    "suicide_rates.head()"
   ]
  },
  {
   "cell_type": "code",
   "execution_count": 8,
   "metadata": {},
   "outputs": [
    {
     "data": {
      "text/plain": [
       "(183, 4)"
      ]
     },
     "execution_count": 8,
     "metadata": {},
     "output_type": "execute_result"
    }
   ],
   "source": [
    "suicide_rates.shape"
   ]
  },
  {
   "cell_type": "markdown",
   "metadata": {},
   "source": [
    "##### importing percentage of population living in cities data from WHO API"
   ]
  },
  {
   "cell_type": "code",
   "execution_count": 9,
   "metadata": {},
   "outputs": [],
   "source": [
    "r = requests.get('http://apps.who.int/gho/athena/api/GHO/AIR_3/?format=json')\n",
    "data = r.json()"
   ]
  },
  {
   "cell_type": "markdown",
   "metadata": {},
   "source": [
    "###### Converting JSON data to Python list"
   ]
  },
  {
   "cell_type": "code",
   "execution_count": 10,
   "metadata": {},
   "outputs": [],
   "source": [
    "data_dictionary = []\n",
    "for country in data['fact']:\n",
    "    for category in country['Dim']:\n",
    "        if category['category'] == \"COUNTRY\":\n",
    "            countrycode = category['code']\n",
    "    data_dictionary.append({\"Country Code\": countrycode, \"% Living in Cities > 100k\": country['value']['numeric']})"
   ]
  },
  {
   "cell_type": "code",
   "execution_count": 11,
   "metadata": {},
   "outputs": [
    {
     "data": {
      "text/plain": [
       "{'Country Code': 'AFG', '% Living in Cities > 100k': 15.56}"
      ]
     },
     "execution_count": 11,
     "metadata": {},
     "output_type": "execute_result"
    }
   ],
   "source": [
    "data_dictionary[0]"
   ]
  },
  {
   "cell_type": "markdown",
   "metadata": {},
   "source": [
    "###### Converting info to Pandas DataFrame"
   ]
  },
  {
   "cell_type": "code",
   "execution_count": 12,
   "metadata": {},
   "outputs": [],
   "source": [
    "percent_living_in_cities = pd.DataFrame(data_dictionary)\n",
    "percent_living_in_cities.set_index(['Country Code'], inplace=True)"
   ]
  },
  {
   "cell_type": "markdown",
   "metadata": {},
   "source": [
    "###### Combining with suicide stats DataFrame and Changing NaN values to Median"
   ]
  },
  {
   "cell_type": "code",
   "execution_count": 13,
   "metadata": {},
   "outputs": [],
   "source": [
    "suicide_rates = suicide_rates.join(percent_living_in_cities, on=['Country Code'], how='left')"
   ]
  },
  {
   "cell_type": "code",
   "execution_count": 14,
   "metadata": {},
   "outputs": [
    {
     "data": {
      "text/plain": [
       "Country Name                 0\n",
       "Combined Suicide Rate        0\n",
       "Male Suicide Rate            0\n",
       "Female Suicide Rate          0\n",
       "% Living in Cities > 100k    0\n",
       "dtype: int64"
      ]
     },
     "execution_count": 14,
     "metadata": {},
     "output_type": "execute_result"
    }
   ],
   "source": [
    "suicide_rates['% Living in Cities > 100k'].fillna(suicide_rates['% Living in Cities > 100k'].median(), inplace=True)\n",
    "suicide_rates.isna().sum()"
   ]
  },
  {
   "cell_type": "markdown",
   "metadata": {},
   "source": [
    "###### Scraping Internet Data from CIA World Fact Book using BeautifulSoup"
   ]
  },
  {
   "cell_type": "code",
   "execution_count": 15,
   "metadata": {},
   "outputs": [
    {
     "name": "stderr",
     "output_type": "stream",
     "text": [
      "/Users/briansrebrenik/anaconda3/lib/python3.6/site-packages/bs4/__init__.py:181: UserWarning: No parser was explicitly specified, so I'm using the best available HTML parser for this system (\"lxml\"). This usually isn't a problem, but if you run this code on another system, or in a different virtual environment, it may use a different parser and behave differently.\n",
      "\n",
      "The code that caused this warning is on line 193 of the file /Users/briansrebrenik/anaconda3/lib/python3.6/runpy.py. To get rid of this warning, change code that looks like this:\n",
      "\n",
      " BeautifulSoup(YOUR_MARKUP})\n",
      "\n",
      "to this:\n",
      "\n",
      " BeautifulSoup(YOUR_MARKUP, \"lxml\")\n",
      "\n",
      "  markup_type=markup_type))\n"
     ]
    }
   ],
   "source": [
    "from bs4 import BeautifulSoup\n",
    "r = requests.get('https://www.cia.gov/library/publications/the-world-factbook/fields/204.html#AF')\n",
    "c = r.content\n",
    "soup = BeautifulSoup(c)"
   ]
  },
  {
   "cell_type": "code",
   "execution_count": 16,
   "metadata": {},
   "outputs": [],
   "source": [
    "data = soup.findAll('tr')[1:]"
   ]
  },
  {
   "cell_type": "markdown",
   "metadata": {},
   "source": [
    "##### Scraping country names and internet connectivity info"
   ]
  },
  {
   "cell_type": "code",
   "execution_count": 17,
   "metadata": {},
   "outputs": [],
   "source": [
    "data_dictionary = []\n",
    "for country in data:\n",
    "    try:\n",
    "        country_name = country.findAll('td', {'class': 'country'})[0].text\n",
    "        country_name_formatted = country_name.replace('\\n', \"\")\n",
    "        internet_percentage = country.findAll('span', {'class': 'subfield-number'})[1].text\n",
    "        internet_percentage_formatted = float(internet_percentage.replace(\"%\", \"\"))\n",
    "        data_dictionary.append({'country': country_name_formatted, \"percentage of population with internet access\": internet_percentage_formatted})\n",
    "    except:\n",
    "        pass"
   ]
  },
  {
   "cell_type": "markdown",
   "metadata": {},
   "source": [
    "##### Converting to Pandas DataFrame"
   ]
  },
  {
   "cell_type": "code",
   "execution_count": 18,
   "metadata": {},
   "outputs": [],
   "source": [
    "internet_stats_df = pd.DataFrame.from_dict(data_dictionary)"
   ]
  },
  {
   "cell_type": "code",
   "execution_count": 19,
   "metadata": {},
   "outputs": [],
   "source": [
    "internet_stats_df.columns= ['Country Name', \"% of Population with Internet Access\"]\n",
    "internet_stats_df.set_index(['Country Name'], inplace=True)\n"
   ]
  },
  {
   "cell_type": "code",
   "execution_count": 20,
   "metadata": {},
   "outputs": [
    {
     "data": {
      "text/html": [
       "<div>\n",
       "<style scoped>\n",
       "    .dataframe tbody tr th:only-of-type {\n",
       "        vertical-align: middle;\n",
       "    }\n",
       "\n",
       "    .dataframe tbody tr th {\n",
       "        vertical-align: top;\n",
       "    }\n",
       "\n",
       "    .dataframe thead th {\n",
       "        text-align: right;\n",
       "    }\n",
       "</style>\n",
       "<table border=\"1\" class=\"dataframe\">\n",
       "  <thead>\n",
       "    <tr style=\"text-align: right;\">\n",
       "      <th></th>\n",
       "      <th>% of Population with Internet Access</th>\n",
       "    </tr>\n",
       "    <tr>\n",
       "      <th>Country Name</th>\n",
       "      <th></th>\n",
       "    </tr>\n",
       "  </thead>\n",
       "  <tbody>\n",
       "    <tr>\n",
       "      <th>Afghanistan</th>\n",
       "      <td>10.6</td>\n",
       "    </tr>\n",
       "    <tr>\n",
       "      <th>Albania</th>\n",
       "      <td>66.4</td>\n",
       "    </tr>\n",
       "    <tr>\n",
       "      <th>Algeria</th>\n",
       "      <td>42.9</td>\n",
       "    </tr>\n",
       "    <tr>\n",
       "      <th>American Samoa</th>\n",
       "      <td>31.3</td>\n",
       "    </tr>\n",
       "    <tr>\n",
       "      <th>Andorra</th>\n",
       "      <td>97.9</td>\n",
       "    </tr>\n",
       "  </tbody>\n",
       "</table>\n",
       "</div>"
      ],
      "text/plain": [
       "                % of Population with Internet Access\n",
       "Country Name                                        \n",
       "Afghanistan                                     10.6\n",
       "Albania                                         66.4\n",
       "Algeria                                         42.9\n",
       "American Samoa                                  31.3\n",
       "Andorra                                         97.9"
      ]
     },
     "execution_count": 20,
     "metadata": {},
     "output_type": "execute_result"
    }
   ],
   "source": [
    "internet_stats_df.shape\n",
    "internet_stats_df.head()"
   ]
  },
  {
   "cell_type": "markdown",
   "metadata": {},
   "source": [
    "##### Combining with other data collected"
   ]
  },
  {
   "cell_type": "code",
   "execution_count": 21,
   "metadata": {},
   "outputs": [],
   "source": [
    "suicide_rates = suicide_rates.join(internet_stats_df, on=['Country Name'], how='inner')"
   ]
  },
  {
   "cell_type": "code",
   "execution_count": 22,
   "metadata": {},
   "outputs": [
    {
     "data": {
      "text/plain": [
       "(167, 6)"
      ]
     },
     "execution_count": 22,
     "metadata": {},
     "output_type": "execute_result"
    }
   ],
   "source": [
    "suicide_rates.sort_values(by = \"Country Name\", ascending = False)\n",
    "suicide_rates.shape"
   ]
  },
  {
   "cell_type": "markdown",
   "metadata": {},
   "source": [
    "###### Scraping Religous stats"
   ]
  },
  {
   "cell_type": "code",
   "execution_count": 23,
   "metadata": {},
   "outputs": [
    {
     "name": "stderr",
     "output_type": "stream",
     "text": [
      "/Users/briansrebrenik/anaconda3/lib/python3.6/site-packages/bs4/__init__.py:181: UserWarning: No parser was explicitly specified, so I'm using the best available HTML parser for this system (\"lxml\"). This usually isn't a problem, but if you run this code on another system, or in a different virtual environment, it may use a different parser and behave differently.\n",
      "\n",
      "The code that caused this warning is on line 193 of the file /Users/briansrebrenik/anaconda3/lib/python3.6/runpy.py. To get rid of this warning, change code that looks like this:\n",
      "\n",
      " BeautifulSoup(YOUR_MARKUP})\n",
      "\n",
      "to this:\n",
      "\n",
      " BeautifulSoup(YOUR_MARKUP, \"lxml\")\n",
      "\n",
      "  markup_type=markup_type))\n"
     ]
    }
   ],
   "source": [
    "import requests\n",
    "from bs4 import BeautifulSoup\n",
    "import pandas as pd\n",
    "r = requests.get('https://rationalwiki.org/wiki/Importance_of_religion_by_country')\n",
    "c = r.content\n",
    "soup = BeautifulSoup(c)"
   ]
  },
  {
   "cell_type": "code",
   "execution_count": 24,
   "metadata": {},
   "outputs": [],
   "source": [
    "data = soup.findAll('table', {'class': 'wikitable'})\n",
    "data = data[0].findAll('td')"
   ]
  },
  {
   "cell_type": "code",
   "execution_count": 25,
   "metadata": {},
   "outputs": [],
   "source": [
    "religous_stats = []\n",
    "for i in range(len(data)):\n",
    "    if i == 0 or i % 3 == 0:\n",
    "        country = data[i].text.strip()\n",
    "    elif i in list(range(1, len(data), 3)):\n",
    "        percentage_religious = float(data[i].text.replace(\"%\", \"\"))\n",
    "        religous_stats.append({'Country Name': country, \"% Religious\": percentage_religious})"
   ]
  },
  {
   "cell_type": "code",
   "execution_count": 26,
   "metadata": {},
   "outputs": [],
   "source": [
    "religious_df = pd.DataFrame.from_dict(religous_stats)\n",
    "religious_df.set_index(['Country Name'], inplace=True)\n",
    "suicide_rates.set_index(['Country Name'], inplace=True)"
   ]
  },
  {
   "cell_type": "code",
   "execution_count": 27,
   "metadata": {},
   "outputs": [
    {
     "data": {
      "text/html": [
       "<div>\n",
       "<style scoped>\n",
       "    .dataframe tbody tr th:only-of-type {\n",
       "        vertical-align: middle;\n",
       "    }\n",
       "\n",
       "    .dataframe tbody tr th {\n",
       "        vertical-align: top;\n",
       "    }\n",
       "\n",
       "    .dataframe thead th {\n",
       "        text-align: right;\n",
       "    }\n",
       "</style>\n",
       "<table border=\"1\" class=\"dataframe\">\n",
       "  <thead>\n",
       "    <tr style=\"text-align: right;\">\n",
       "      <th></th>\n",
       "      <th>% Religious</th>\n",
       "    </tr>\n",
       "    <tr>\n",
       "      <th>Country Name</th>\n",
       "      <th></th>\n",
       "    </tr>\n",
       "  </thead>\n",
       "  <tbody>\n",
       "    <tr>\n",
       "      <th>Estonia</th>\n",
       "      <td>16.0</td>\n",
       "    </tr>\n",
       "    <tr>\n",
       "      <th>Sweden</th>\n",
       "      <td>16.5</td>\n",
       "    </tr>\n",
       "    <tr>\n",
       "      <th>Denmark</th>\n",
       "      <td>18.0</td>\n",
       "    </tr>\n",
       "    <tr>\n",
       "      <th>Czech Republic</th>\n",
       "      <td>20.5</td>\n",
       "    </tr>\n",
       "    <tr>\n",
       "      <th>Norway</th>\n",
       "      <td>20.5</td>\n",
       "    </tr>\n",
       "  </tbody>\n",
       "</table>\n",
       "</div>"
      ],
      "text/plain": [
       "                % Religious\n",
       "Country Name               \n",
       "Estonia                16.0\n",
       "Sweden                 16.5\n",
       "Denmark                18.0\n",
       "Czech Republic         20.5\n",
       "Norway                 20.5"
      ]
     },
     "execution_count": 27,
     "metadata": {},
     "output_type": "execute_result"
    }
   ],
   "source": [
    "suicide_rates.head()\n",
    "religious_df.head()"
   ]
  },
  {
   "cell_type": "markdown",
   "metadata": {},
   "source": [
    "###### Combine with rest of data"
   ]
  },
  {
   "cell_type": "code",
   "execution_count": 28,
   "metadata": {},
   "outputs": [],
   "source": [
    "suicide_rates = suicide_rates.join(religious_df)"
   ]
  },
  {
   "cell_type": "code",
   "execution_count": 29,
   "metadata": {},
   "outputs": [
    {
     "data": {
      "text/html": [
       "<div>\n",
       "<style scoped>\n",
       "    .dataframe tbody tr th:only-of-type {\n",
       "        vertical-align: middle;\n",
       "    }\n",
       "\n",
       "    .dataframe tbody tr th {\n",
       "        vertical-align: top;\n",
       "    }\n",
       "\n",
       "    .dataframe thead th {\n",
       "        text-align: right;\n",
       "    }\n",
       "</style>\n",
       "<table border=\"1\" class=\"dataframe\">\n",
       "  <thead>\n",
       "    <tr style=\"text-align: right;\">\n",
       "      <th></th>\n",
       "      <th>Combined Suicide Rate</th>\n",
       "      <th>Male Suicide Rate</th>\n",
       "      <th>Female Suicide Rate</th>\n",
       "      <th>% Living in Cities &gt; 100k</th>\n",
       "      <th>% of Population with Internet Access</th>\n",
       "      <th>% Religious</th>\n",
       "    </tr>\n",
       "    <tr>\n",
       "      <th>Country Name</th>\n",
       "      <th></th>\n",
       "      <th></th>\n",
       "      <th></th>\n",
       "      <th></th>\n",
       "      <th></th>\n",
       "      <th></th>\n",
       "    </tr>\n",
       "  </thead>\n",
       "  <tbody>\n",
       "    <tr>\n",
       "      <th>Afghanistan</th>\n",
       "      <td>6.4</td>\n",
       "      <td>10.6</td>\n",
       "      <td>2.1</td>\n",
       "      <td>15.56</td>\n",
       "      <td>10.6</td>\n",
       "      <td>97.0</td>\n",
       "    </tr>\n",
       "    <tr>\n",
       "      <th>Angola</th>\n",
       "      <td>8.9</td>\n",
       "      <td>14.0</td>\n",
       "      <td>4.6</td>\n",
       "      <td>19.97</td>\n",
       "      <td>13.0</td>\n",
       "      <td>88.0</td>\n",
       "    </tr>\n",
       "    <tr>\n",
       "      <th>Albania</th>\n",
       "      <td>5.6</td>\n",
       "      <td>7.0</td>\n",
       "      <td>4.3</td>\n",
       "      <td>9.34</td>\n",
       "      <td>66.4</td>\n",
       "      <td>32.5</td>\n",
       "    </tr>\n",
       "    <tr>\n",
       "      <th>United Arab Emirates</th>\n",
       "      <td>2.7</td>\n",
       "      <td>3.5</td>\n",
       "      <td>0.8</td>\n",
       "      <td>70.03</td>\n",
       "      <td>90.6</td>\n",
       "      <td>91.0</td>\n",
       "    </tr>\n",
       "    <tr>\n",
       "      <th>Argentina</th>\n",
       "      <td>9.1</td>\n",
       "      <td>15.0</td>\n",
       "      <td>3.5</td>\n",
       "      <td>74.17</td>\n",
       "      <td>70.2</td>\n",
       "      <td>66.0</td>\n",
       "    </tr>\n",
       "  </tbody>\n",
       "</table>\n",
       "</div>"
      ],
      "text/plain": [
       "                      Combined Suicide Rate  Male Suicide Rate  \\\n",
       "Country Name                                                     \n",
       "Afghanistan                             6.4               10.6   \n",
       "Angola                                  8.9               14.0   \n",
       "Albania                                 5.6                7.0   \n",
       "United Arab Emirates                    2.7                3.5   \n",
       "Argentina                               9.1               15.0   \n",
       "\n",
       "                      Female Suicide Rate  % Living in Cities > 100k  \\\n",
       "Country Name                                                           \n",
       "Afghanistan                           2.1                      15.56   \n",
       "Angola                                4.6                      19.97   \n",
       "Albania                               4.3                       9.34   \n",
       "United Arab Emirates                  0.8                      70.03   \n",
       "Argentina                             3.5                      74.17   \n",
       "\n",
       "                      % of Population with Internet Access  % Religious  \n",
       "Country Name                                                             \n",
       "Afghanistan                                           10.6         97.0  \n",
       "Angola                                                13.0         88.0  \n",
       "Albania                                               66.4         32.5  \n",
       "United Arab Emirates                                  90.6         91.0  \n",
       "Argentina                                             70.2         66.0  "
      ]
     },
     "execution_count": 29,
     "metadata": {},
     "output_type": "execute_result"
    }
   ],
   "source": [
    "suicide_rates.sort_values(by = \"Country Name\", ascending = False)\n",
    "suicide_rates.head()"
   ]
  },
  {
   "cell_type": "markdown",
   "metadata": {},
   "source": [
    "##### Getting Economic and Health Data"
   ]
  },
  {
   "cell_type": "code",
   "execution_count": 30,
   "metadata": {},
   "outputs": [],
   "source": [
    "gdp_url = \"https://www.cia.gov/library/publications/the-world-factbook/rankorder/rawdata_2004.txt\"\n",
    "unemp_url = \"https://www.cia.gov/library/publications/the-world-factbook/rankorder/rawdata_2129.txt\"\n",
    "\n",
    "import urllib  # the lib that handles the url stuff\n",
    "import json\n",
    "import pandas as pd\n",
    "import numpy as np\n",
    "from xml.dom import minidom\n",
    "from urllib.request import urlopen\n",
    "import matplotlib.pyplot as plt\n",
    "%matplotlib inline\n",
    "\n",
    "\n",
    "GDP = pd.read_fwf('gdp_perca.txt', header = None, names = ['country', 'GDP']).astype(str)\n",
    "Unemp = pd.read_fwf('unemp.txt', header = None, names = ['Unem_rate'])\n",
    "mental = pd.read_csv('mental_disorder_substance_use.csv')\n",
    "healthcare = pd.read_excel('NHA.xlsx')\n",
    "\n",
    "      \n",
    "index_list = [item[1] for item in Unemp.index]\n",
    "Unemp.index = index_list\n",
    "Unemp.head()\n",
    "\n",
    "gdp = GDP.set_index('country')\n",
    "health = healthcare[[\"Countries\", '2016']]\n",
    "nha = health.drop([0], axis = 0)"
   ]
  },
  {
   "cell_type": "markdown",
   "metadata": {},
   "source": [
    "##### Cleaning data and putting it in Data Frame"
   ]
  },
  {
   "cell_type": "code",
   "execution_count": 31,
   "metadata": {},
   "outputs": [
    {
     "name": "stderr",
     "output_type": "stream",
     "text": [
      "/Users/briansrebrenik/anaconda3/lib/python3.6/site-packages/ipykernel_launcher.py:2: SettingWithCopyWarning: \n",
      "A value is trying to be set on a copy of a slice from a DataFrame\n",
      "\n",
      "See the caveats in the documentation: http://pandas.pydata.org/pandas-docs/stable/indexing.html#indexing-view-versus-copy\n",
      "  \n"
     ]
    }
   ],
   "source": [
    "mental1 = mental[mental.Year == 2016]\n",
    "mental1.dropna(axis = 0, inplace = True)\n",
    "men_copy = mental1.set_index('Entity')"
   ]
  },
  {
   "cell_type": "markdown",
   "metadata": {},
   "source": [
    "##### Mergin Tables and cleaning new data"
   ]
  },
  {
   "cell_type": "code",
   "execution_count": 32,
   "metadata": {},
   "outputs": [],
   "source": [
    "merged = men_copy.join(Unemp)\n",
    "merged.drop('Year', axis = 1, inplace = True)\n",
    "merged = merged.join(gdp)\n",
    "merged.dropna(inplace = True)\n",
    "\n",
    "#GDP per capita\n",
    "gdps = [item.split(\",\") for item in merged.GDP]\n",
    "\n",
    "def clean_gdp(data):\n",
    "    empty = []\n",
    "    for item in data:\n",
    "        first = item[0].split(\"$\")[1]\n",
    "        second = item[1]\n",
    "        total = int(first+second)\n",
    "        empty.append(total)\n",
    "    return empty\n",
    "\n",
    "merged.GDP = clean_gdp(gdps)\n",
    "merged.sort_values(by = \"Entity\", ascending = False)\n",
    "merged[merged.Code == \"RUS\"]\n",
    "\n",
    "#Health spending per capita\n",
    "health = nha.set_index('Countries')\n",
    "health.rename(columns = {'2016': 'health_spend_perca'}, inplace = True)\n",
    "\n",
    "\n",
    "new = merged.join(health)\n",
    "new.loc[\"Russia\", 'health_spend_perca'] = 1414.12\n",
    "new[new.index == \"Russia\"]\n",
    "new.loc[\"United States\", 'health_spend_perca'] = 9869.74\n",
    "len(new)\n",
    "final = new.dropna()"
   ]
  },
  {
   "cell_type": "code",
   "execution_count": 33,
   "metadata": {},
   "outputs": [
    {
     "data": {
      "text/html": [
       "<div>\n",
       "<style scoped>\n",
       "    .dataframe tbody tr th:only-of-type {\n",
       "        vertical-align: middle;\n",
       "    }\n",
       "\n",
       "    .dataframe tbody tr th {\n",
       "        vertical-align: top;\n",
       "    }\n",
       "\n",
       "    .dataframe thead th {\n",
       "        text-align: right;\n",
       "    }\n",
       "</style>\n",
       "<table border=\"1\" class=\"dataframe\">\n",
       "  <thead>\n",
       "    <tr style=\"text-align: right;\">\n",
       "      <th></th>\n",
       "      <th>Combined Suicide Rate</th>\n",
       "      <th>Male Suicide Rate</th>\n",
       "      <th>Female Suicide Rate</th>\n",
       "      <th>% Living in Cities &gt; 100k</th>\n",
       "      <th>% of Population with Internet Access</th>\n",
       "      <th>% Religious</th>\n",
       "    </tr>\n",
       "    <tr>\n",
       "      <th>Country Name</th>\n",
       "      <th></th>\n",
       "      <th></th>\n",
       "      <th></th>\n",
       "      <th></th>\n",
       "      <th></th>\n",
       "      <th></th>\n",
       "    </tr>\n",
       "  </thead>\n",
       "  <tbody>\n",
       "    <tr>\n",
       "      <th>Afghanistan</th>\n",
       "      <td>6.4</td>\n",
       "      <td>10.6</td>\n",
       "      <td>2.1</td>\n",
       "      <td>15.56</td>\n",
       "      <td>10.6</td>\n",
       "      <td>97.0</td>\n",
       "    </tr>\n",
       "    <tr>\n",
       "      <th>Angola</th>\n",
       "      <td>8.9</td>\n",
       "      <td>14.0</td>\n",
       "      <td>4.6</td>\n",
       "      <td>19.97</td>\n",
       "      <td>13.0</td>\n",
       "      <td>88.0</td>\n",
       "    </tr>\n",
       "    <tr>\n",
       "      <th>Albania</th>\n",
       "      <td>5.6</td>\n",
       "      <td>7.0</td>\n",
       "      <td>4.3</td>\n",
       "      <td>9.34</td>\n",
       "      <td>66.4</td>\n",
       "      <td>32.5</td>\n",
       "    </tr>\n",
       "    <tr>\n",
       "      <th>United Arab Emirates</th>\n",
       "      <td>2.7</td>\n",
       "      <td>3.5</td>\n",
       "      <td>0.8</td>\n",
       "      <td>70.03</td>\n",
       "      <td>90.6</td>\n",
       "      <td>91.0</td>\n",
       "    </tr>\n",
       "    <tr>\n",
       "      <th>Argentina</th>\n",
       "      <td>9.1</td>\n",
       "      <td>15.0</td>\n",
       "      <td>3.5</td>\n",
       "      <td>74.17</td>\n",
       "      <td>70.2</td>\n",
       "      <td>66.0</td>\n",
       "    </tr>\n",
       "  </tbody>\n",
       "</table>\n",
       "</div>"
      ],
      "text/plain": [
       "                      Combined Suicide Rate  Male Suicide Rate  \\\n",
       "Country Name                                                     \n",
       "Afghanistan                             6.4               10.6   \n",
       "Angola                                  8.9               14.0   \n",
       "Albania                                 5.6                7.0   \n",
       "United Arab Emirates                    2.7                3.5   \n",
       "Argentina                               9.1               15.0   \n",
       "\n",
       "                      Female Suicide Rate  % Living in Cities > 100k  \\\n",
       "Country Name                                                           \n",
       "Afghanistan                           2.1                      15.56   \n",
       "Angola                                4.6                      19.97   \n",
       "Albania                               4.3                       9.34   \n",
       "United Arab Emirates                  0.8                      70.03   \n",
       "Argentina                             3.5                      74.17   \n",
       "\n",
       "                      % of Population with Internet Access  % Religious  \n",
       "Country Name                                                             \n",
       "Afghanistan                                           10.6         97.0  \n",
       "Angola                                                13.0         88.0  \n",
       "Albania                                               66.4         32.5  \n",
       "United Arab Emirates                                  90.6         91.0  \n",
       "Argentina                                             70.2         66.0  "
      ]
     },
     "execution_count": 33,
     "metadata": {},
     "output_type": "execute_result"
    }
   ],
   "source": [
    "suicide_rates.head()"
   ]
  },
  {
   "cell_type": "markdown",
   "metadata": {},
   "source": [
    "##### Mergin FInal Two Tables"
   ]
  },
  {
   "cell_type": "code",
   "execution_count": 34,
   "metadata": {
    "scrolled": true
   },
   "outputs": [
    {
     "data": {
      "text/html": [
       "<div>\n",
       "<style scoped>\n",
       "    .dataframe tbody tr th:only-of-type {\n",
       "        vertical-align: middle;\n",
       "    }\n",
       "\n",
       "    .dataframe tbody tr th {\n",
       "        vertical-align: top;\n",
       "    }\n",
       "\n",
       "    .dataframe thead th {\n",
       "        text-align: right;\n",
       "    }\n",
       "</style>\n",
       "<table border=\"1\" class=\"dataframe\">\n",
       "  <thead>\n",
       "    <tr style=\"text-align: right;\">\n",
       "      <th></th>\n",
       "      <th>Code</th>\n",
       "      <th>Schizophrenia (%)</th>\n",
       "      <th>Bipolar disorder (%)</th>\n",
       "      <th>Eating disorders (%)</th>\n",
       "      <th>Anxiety disorders (%)</th>\n",
       "      <th>Drug use disorders (%)</th>\n",
       "      <th>Depression (%)</th>\n",
       "      <th>Alcohol use disorders (%)</th>\n",
       "      <th>Unem_rate</th>\n",
       "      <th>GDP</th>\n",
       "      <th>health_spend_perca</th>\n",
       "      <th>Combined Suicide Rate</th>\n",
       "      <th>Male Suicide Rate</th>\n",
       "      <th>Female Suicide Rate</th>\n",
       "      <th>% Living in Cities &gt; 100k</th>\n",
       "      <th>% of Population with Internet Access</th>\n",
       "      <th>% Religious</th>\n",
       "    </tr>\n",
       "    <tr>\n",
       "      <th>Entity</th>\n",
       "      <th></th>\n",
       "      <th></th>\n",
       "      <th></th>\n",
       "      <th></th>\n",
       "      <th></th>\n",
       "      <th></th>\n",
       "      <th></th>\n",
       "      <th></th>\n",
       "      <th></th>\n",
       "      <th></th>\n",
       "      <th></th>\n",
       "      <th></th>\n",
       "      <th></th>\n",
       "      <th></th>\n",
       "      <th></th>\n",
       "      <th></th>\n",
       "      <th></th>\n",
       "    </tr>\n",
       "  </thead>\n",
       "  <tbody>\n",
       "    <tr>\n",
       "      <th>Afghanistan</th>\n",
       "      <td>AFG</td>\n",
       "      <td>0.159494</td>\n",
       "      <td>0.760363</td>\n",
       "      <td>0.088103</td>\n",
       "      <td>5.023055</td>\n",
       "      <td>1.196912</td>\n",
       "      <td>4.404727</td>\n",
       "      <td>0.612712</td>\n",
       "      <td>23.9</td>\n",
       "      <td>2000</td>\n",
       "      <td>57.2488</td>\n",
       "      <td>6.4</td>\n",
       "      <td>10.6</td>\n",
       "      <td>2.1</td>\n",
       "      <td>15.56</td>\n",
       "      <td>10.6</td>\n",
       "      <td>97.0</td>\n",
       "    </tr>\n",
       "    <tr>\n",
       "      <th>Albania</th>\n",
       "      <td>ALB</td>\n",
       "      <td>0.231592</td>\n",
       "      <td>0.667222</td>\n",
       "      <td>0.113824</td>\n",
       "      <td>3.557997</td>\n",
       "      <td>0.655556</td>\n",
       "      <td>2.450883</td>\n",
       "      <td>1.669982</td>\n",
       "      <td>14.0</td>\n",
       "      <td>12500</td>\n",
       "      <td>271.543</td>\n",
       "      <td>5.6</td>\n",
       "      <td>7.0</td>\n",
       "      <td>4.3</td>\n",
       "      <td>9.34</td>\n",
       "      <td>66.4</td>\n",
       "      <td>32.5</td>\n",
       "    </tr>\n",
       "    <tr>\n",
       "      <th>Algeria</th>\n",
       "      <td>DZA</td>\n",
       "      <td>0.199488</td>\n",
       "      <td>0.868839</td>\n",
       "      <td>0.181441</td>\n",
       "      <td>5.249815</td>\n",
       "      <td>0.880553</td>\n",
       "      <td>3.946200</td>\n",
       "      <td>0.605362</td>\n",
       "      <td>11.7</td>\n",
       "      <td>15200</td>\n",
       "      <td>260.413</td>\n",
       "      <td>3.3</td>\n",
       "      <td>4.9</td>\n",
       "      <td>1.8</td>\n",
       "      <td>24.73</td>\n",
       "      <td>42.9</td>\n",
       "      <td>93.0</td>\n",
       "    </tr>\n",
       "    <tr>\n",
       "      <th>Angola</th>\n",
       "      <td>AGO</td>\n",
       "      <td>0.198776</td>\n",
       "      <td>0.623446</td>\n",
       "      <td>0.113965</td>\n",
       "      <td>3.272275</td>\n",
       "      <td>0.467204</td>\n",
       "      <td>4.715467</td>\n",
       "      <td>1.456741</td>\n",
       "      <td>6.6</td>\n",
       "      <td>6800</td>\n",
       "      <td>95.2208</td>\n",
       "      <td>8.9</td>\n",
       "      <td>14.0</td>\n",
       "      <td>4.6</td>\n",
       "      <td>19.97</td>\n",
       "      <td>13.0</td>\n",
       "      <td>88.0</td>\n",
       "    </tr>\n",
       "    <tr>\n",
       "      <th>Antigua and Barbuda</th>\n",
       "      <td>ATG</td>\n",
       "      <td>0.210017</td>\n",
       "      <td>0.930308</td>\n",
       "      <td>0.210369</td>\n",
       "      <td>4.316763</td>\n",
       "      <td>0.719728</td>\n",
       "      <td>3.128054</td>\n",
       "      <td>1.947655</td>\n",
       "      <td>11.0</td>\n",
       "      <td>26300</td>\n",
       "      <td>623.115</td>\n",
       "      <td>0.5</td>\n",
       "      <td>0.0</td>\n",
       "      <td>0.9</td>\n",
       "      <td>33.07</td>\n",
       "      <td>65.2</td>\n",
       "      <td>50.0</td>\n",
       "    </tr>\n",
       "  </tbody>\n",
       "</table>\n",
       "</div>"
      ],
      "text/plain": [
       "                    Code  Schizophrenia (%)  Bipolar disorder (%)  \\\n",
       "Entity                                                              \n",
       "Afghanistan          AFG           0.159494              0.760363   \n",
       "Albania              ALB           0.231592              0.667222   \n",
       "Algeria              DZA           0.199488              0.868839   \n",
       "Angola               AGO           0.198776              0.623446   \n",
       "Antigua and Barbuda  ATG           0.210017              0.930308   \n",
       "\n",
       "                     Eating disorders (%)  Anxiety disorders (%)  \\\n",
       "Entity                                                             \n",
       "Afghanistan                      0.088103               5.023055   \n",
       "Albania                          0.113824               3.557997   \n",
       "Algeria                          0.181441               5.249815   \n",
       "Angola                           0.113965               3.272275   \n",
       "Antigua and Barbuda              0.210369               4.316763   \n",
       "\n",
       "                     Drug use disorders (%)  Depression (%)  \\\n",
       "Entity                                                        \n",
       "Afghanistan                        1.196912        4.404727   \n",
       "Albania                            0.655556        2.450883   \n",
       "Algeria                            0.880553        3.946200   \n",
       "Angola                             0.467204        4.715467   \n",
       "Antigua and Barbuda                0.719728        3.128054   \n",
       "\n",
       "                     Alcohol use disorders (%)  Unem_rate    GDP  \\\n",
       "Entity                                                             \n",
       "Afghanistan                           0.612712       23.9   2000   \n",
       "Albania                               1.669982       14.0  12500   \n",
       "Algeria                               0.605362       11.7  15200   \n",
       "Angola                                1.456741        6.6   6800   \n",
       "Antigua and Barbuda                   1.947655       11.0  26300   \n",
       "\n",
       "                    health_spend_perca  Combined Suicide Rate  \\\n",
       "Entity                                                          \n",
       "Afghanistan                    57.2488                    6.4   \n",
       "Albania                        271.543                    5.6   \n",
       "Algeria                        260.413                    3.3   \n",
       "Angola                         95.2208                    8.9   \n",
       "Antigua and Barbuda            623.115                    0.5   \n",
       "\n",
       "                     Male Suicide Rate  Female Suicide Rate  \\\n",
       "Entity                                                        \n",
       "Afghanistan                       10.6                  2.1   \n",
       "Albania                            7.0                  4.3   \n",
       "Algeria                            4.9                  1.8   \n",
       "Angola                            14.0                  4.6   \n",
       "Antigua and Barbuda                0.0                  0.9   \n",
       "\n",
       "                     % Living in Cities > 100k  \\\n",
       "Entity                                           \n",
       "Afghanistan                              15.56   \n",
       "Albania                                   9.34   \n",
       "Algeria                                  24.73   \n",
       "Angola                                   19.97   \n",
       "Antigua and Barbuda                      33.07   \n",
       "\n",
       "                     % of Population with Internet Access  % Religious  \n",
       "Entity                                                                  \n",
       "Afghanistan                                          10.6         97.0  \n",
       "Albania                                              66.4         32.5  \n",
       "Algeria                                              42.9         93.0  \n",
       "Angola                                               13.0         88.0  \n",
       "Antigua and Barbuda                                  65.2         50.0  "
      ]
     },
     "execution_count": 34,
     "metadata": {},
     "output_type": "execute_result"
    }
   ],
   "source": [
    "final_table = final.join(suicide_rates)\n",
    "final_table.head()\n",
    "final_table.dropna(subset = ['Combined Suicide Rate'], inplace = True)\n",
    "final_table['% Religious'].fillna(50, inplace = True)\n",
    "final_table.head()"
   ]
  },
  {
   "cell_type": "code",
   "execution_count": 35,
   "metadata": {},
   "outputs": [],
   "source": [
    "final_table.loc[final_table[\"% Religious\"] > 33, \"Religious\"] = \"Medium\"\n",
    "final_table.loc[final_table[\"% Religious\"] >= 66, \"Religious\"] = \"High\"\n",
    "final_table.loc[final_table[\"% Religious\"] <= 33, \"Religious\"] = \"Low\""
   ]
  },
  {
   "cell_type": "code",
   "execution_count": 36,
   "metadata": {},
   "outputs": [
    {
     "data": {
      "text/html": [
       "<div>\n",
       "<style scoped>\n",
       "    .dataframe tbody tr th:only-of-type {\n",
       "        vertical-align: middle;\n",
       "    }\n",
       "\n",
       "    .dataframe tbody tr th {\n",
       "        vertical-align: top;\n",
       "    }\n",
       "\n",
       "    .dataframe thead th {\n",
       "        text-align: right;\n",
       "    }\n",
       "</style>\n",
       "<table border=\"1\" class=\"dataframe\">\n",
       "  <thead>\n",
       "    <tr style=\"text-align: right;\">\n",
       "      <th></th>\n",
       "      <th>Code</th>\n",
       "      <th>Schizophrenia (%)</th>\n",
       "      <th>Bipolar disorder (%)</th>\n",
       "      <th>Eating disorders (%)</th>\n",
       "      <th>Anxiety disorders (%)</th>\n",
       "      <th>Drug use disorders (%)</th>\n",
       "      <th>Depression (%)</th>\n",
       "      <th>Alcohol use disorders (%)</th>\n",
       "      <th>Unem_rate</th>\n",
       "      <th>GDP</th>\n",
       "      <th>health_spend_perca</th>\n",
       "      <th>Combined Suicide Rate</th>\n",
       "      <th>Male Suicide Rate</th>\n",
       "      <th>Female Suicide Rate</th>\n",
       "      <th>% Living in Cities &gt; 100k</th>\n",
       "      <th>% of Population with Internet Access</th>\n",
       "      <th>% Religious</th>\n",
       "      <th>Religious</th>\n",
       "    </tr>\n",
       "    <tr>\n",
       "      <th>Entity</th>\n",
       "      <th></th>\n",
       "      <th></th>\n",
       "      <th></th>\n",
       "      <th></th>\n",
       "      <th></th>\n",
       "      <th></th>\n",
       "      <th></th>\n",
       "      <th></th>\n",
       "      <th></th>\n",
       "      <th></th>\n",
       "      <th></th>\n",
       "      <th></th>\n",
       "      <th></th>\n",
       "      <th></th>\n",
       "      <th></th>\n",
       "      <th></th>\n",
       "      <th></th>\n",
       "      <th></th>\n",
       "    </tr>\n",
       "  </thead>\n",
       "  <tbody>\n",
       "    <tr>\n",
       "      <th>Afghanistan</th>\n",
       "      <td>AFG</td>\n",
       "      <td>0.159494</td>\n",
       "      <td>0.760363</td>\n",
       "      <td>0.088103</td>\n",
       "      <td>5.023055</td>\n",
       "      <td>1.196912</td>\n",
       "      <td>4.404727</td>\n",
       "      <td>0.612712</td>\n",
       "      <td>23.9</td>\n",
       "      <td>2000</td>\n",
       "      <td>57.2488</td>\n",
       "      <td>6.4</td>\n",
       "      <td>10.6</td>\n",
       "      <td>2.1</td>\n",
       "      <td>15.56</td>\n",
       "      <td>10.6</td>\n",
       "      <td>97.0</td>\n",
       "      <td>High</td>\n",
       "    </tr>\n",
       "    <tr>\n",
       "      <th>Albania</th>\n",
       "      <td>ALB</td>\n",
       "      <td>0.231592</td>\n",
       "      <td>0.667222</td>\n",
       "      <td>0.113824</td>\n",
       "      <td>3.557997</td>\n",
       "      <td>0.655556</td>\n",
       "      <td>2.450883</td>\n",
       "      <td>1.669982</td>\n",
       "      <td>14.0</td>\n",
       "      <td>12500</td>\n",
       "      <td>271.543</td>\n",
       "      <td>5.6</td>\n",
       "      <td>7.0</td>\n",
       "      <td>4.3</td>\n",
       "      <td>9.34</td>\n",
       "      <td>66.4</td>\n",
       "      <td>32.5</td>\n",
       "      <td>Low</td>\n",
       "    </tr>\n",
       "    <tr>\n",
       "      <th>Algeria</th>\n",
       "      <td>DZA</td>\n",
       "      <td>0.199488</td>\n",
       "      <td>0.868839</td>\n",
       "      <td>0.181441</td>\n",
       "      <td>5.249815</td>\n",
       "      <td>0.880553</td>\n",
       "      <td>3.946200</td>\n",
       "      <td>0.605362</td>\n",
       "      <td>11.7</td>\n",
       "      <td>15200</td>\n",
       "      <td>260.413</td>\n",
       "      <td>3.3</td>\n",
       "      <td>4.9</td>\n",
       "      <td>1.8</td>\n",
       "      <td>24.73</td>\n",
       "      <td>42.9</td>\n",
       "      <td>93.0</td>\n",
       "      <td>High</td>\n",
       "    </tr>\n",
       "    <tr>\n",
       "      <th>Angola</th>\n",
       "      <td>AGO</td>\n",
       "      <td>0.198776</td>\n",
       "      <td>0.623446</td>\n",
       "      <td>0.113965</td>\n",
       "      <td>3.272275</td>\n",
       "      <td>0.467204</td>\n",
       "      <td>4.715467</td>\n",
       "      <td>1.456741</td>\n",
       "      <td>6.6</td>\n",
       "      <td>6800</td>\n",
       "      <td>95.2208</td>\n",
       "      <td>8.9</td>\n",
       "      <td>14.0</td>\n",
       "      <td>4.6</td>\n",
       "      <td>19.97</td>\n",
       "      <td>13.0</td>\n",
       "      <td>88.0</td>\n",
       "      <td>High</td>\n",
       "    </tr>\n",
       "    <tr>\n",
       "      <th>Antigua and Barbuda</th>\n",
       "      <td>ATG</td>\n",
       "      <td>0.210017</td>\n",
       "      <td>0.930308</td>\n",
       "      <td>0.210369</td>\n",
       "      <td>4.316763</td>\n",
       "      <td>0.719728</td>\n",
       "      <td>3.128054</td>\n",
       "      <td>1.947655</td>\n",
       "      <td>11.0</td>\n",
       "      <td>26300</td>\n",
       "      <td>623.115</td>\n",
       "      <td>0.5</td>\n",
       "      <td>0.0</td>\n",
       "      <td>0.9</td>\n",
       "      <td>33.07</td>\n",
       "      <td>65.2</td>\n",
       "      <td>50.0</td>\n",
       "      <td>Medium</td>\n",
       "    </tr>\n",
       "  </tbody>\n",
       "</table>\n",
       "</div>"
      ],
      "text/plain": [
       "                    Code  Schizophrenia (%)  Bipolar disorder (%)  \\\n",
       "Entity                                                              \n",
       "Afghanistan          AFG           0.159494              0.760363   \n",
       "Albania              ALB           0.231592              0.667222   \n",
       "Algeria              DZA           0.199488              0.868839   \n",
       "Angola               AGO           0.198776              0.623446   \n",
       "Antigua and Barbuda  ATG           0.210017              0.930308   \n",
       "\n",
       "                     Eating disorders (%)  Anxiety disorders (%)  \\\n",
       "Entity                                                             \n",
       "Afghanistan                      0.088103               5.023055   \n",
       "Albania                          0.113824               3.557997   \n",
       "Algeria                          0.181441               5.249815   \n",
       "Angola                           0.113965               3.272275   \n",
       "Antigua and Barbuda              0.210369               4.316763   \n",
       "\n",
       "                     Drug use disorders (%)  Depression (%)  \\\n",
       "Entity                                                        \n",
       "Afghanistan                        1.196912        4.404727   \n",
       "Albania                            0.655556        2.450883   \n",
       "Algeria                            0.880553        3.946200   \n",
       "Angola                             0.467204        4.715467   \n",
       "Antigua and Barbuda                0.719728        3.128054   \n",
       "\n",
       "                     Alcohol use disorders (%)  Unem_rate    GDP  \\\n",
       "Entity                                                             \n",
       "Afghanistan                           0.612712       23.9   2000   \n",
       "Albania                               1.669982       14.0  12500   \n",
       "Algeria                               0.605362       11.7  15200   \n",
       "Angola                                1.456741        6.6   6800   \n",
       "Antigua and Barbuda                   1.947655       11.0  26300   \n",
       "\n",
       "                    health_spend_perca  Combined Suicide Rate  \\\n",
       "Entity                                                          \n",
       "Afghanistan                    57.2488                    6.4   \n",
       "Albania                        271.543                    5.6   \n",
       "Algeria                        260.413                    3.3   \n",
       "Angola                         95.2208                    8.9   \n",
       "Antigua and Barbuda            623.115                    0.5   \n",
       "\n",
       "                     Male Suicide Rate  Female Suicide Rate  \\\n",
       "Entity                                                        \n",
       "Afghanistan                       10.6                  2.1   \n",
       "Albania                            7.0                  4.3   \n",
       "Algeria                            4.9                  1.8   \n",
       "Angola                            14.0                  4.6   \n",
       "Antigua and Barbuda                0.0                  0.9   \n",
       "\n",
       "                     % Living in Cities > 100k  \\\n",
       "Entity                                           \n",
       "Afghanistan                              15.56   \n",
       "Albania                                   9.34   \n",
       "Algeria                                  24.73   \n",
       "Angola                                   19.97   \n",
       "Antigua and Barbuda                      33.07   \n",
       "\n",
       "                     % of Population with Internet Access  % Religious  \\\n",
       "Entity                                                                   \n",
       "Afghanistan                                          10.6         97.0   \n",
       "Albania                                              66.4         32.5   \n",
       "Algeria                                              42.9         93.0   \n",
       "Angola                                               13.0         88.0   \n",
       "Antigua and Barbuda                                  65.2         50.0   \n",
       "\n",
       "                    Religious  \n",
       "Entity                         \n",
       "Afghanistan              High  \n",
       "Albania                   Low  \n",
       "Algeria                  High  \n",
       "Angola                   High  \n",
       "Antigua and Barbuda    Medium  "
      ]
     },
     "execution_count": 36,
     "metadata": {},
     "output_type": "execute_result"
    }
   ],
   "source": [
    "final_table.head()"
   ]
  },
  {
   "cell_type": "markdown",
   "metadata": {},
   "source": [
    "##### Checking for Multicolinearity and removing excess features"
   ]
  },
  {
   "cell_type": "code",
   "execution_count": 37,
   "metadata": {},
   "outputs": [
    {
     "data": {
      "text/html": [
       "<div>\n",
       "<style scoped>\n",
       "    .dataframe tbody tr th:only-of-type {\n",
       "        vertical-align: middle;\n",
       "    }\n",
       "\n",
       "    .dataframe tbody tr th {\n",
       "        vertical-align: top;\n",
       "    }\n",
       "\n",
       "    .dataframe thead th {\n",
       "        text-align: right;\n",
       "    }\n",
       "</style>\n",
       "<table border=\"1\" class=\"dataframe\">\n",
       "  <thead>\n",
       "    <tr style=\"text-align: right;\">\n",
       "      <th></th>\n",
       "      <th>Schizophrenia (%)</th>\n",
       "      <th>Bipolar disorder (%)</th>\n",
       "      <th>Eating disorders (%)</th>\n",
       "      <th>Anxiety disorders (%)</th>\n",
       "      <th>Drug use disorders (%)</th>\n",
       "      <th>Depression (%)</th>\n",
       "      <th>Alcohol use disorders (%)</th>\n",
       "      <th>Unem_rate</th>\n",
       "      <th>GDP</th>\n",
       "      <th>Combined Suicide Rate</th>\n",
       "      <th>Male Suicide Rate</th>\n",
       "      <th>Female Suicide Rate</th>\n",
       "      <th>% Living in Cities &gt; 100k</th>\n",
       "      <th>% of Population with Internet Access</th>\n",
       "      <th>% Religious</th>\n",
       "    </tr>\n",
       "  </thead>\n",
       "  <tbody>\n",
       "    <tr>\n",
       "      <th>Schizophrenia (%)</th>\n",
       "      <td>True</td>\n",
       "      <td>False</td>\n",
       "      <td>False</td>\n",
       "      <td>False</td>\n",
       "      <td>False</td>\n",
       "      <td>False</td>\n",
       "      <td>False</td>\n",
       "      <td>False</td>\n",
       "      <td>False</td>\n",
       "      <td>False</td>\n",
       "      <td>False</td>\n",
       "      <td>False</td>\n",
       "      <td>False</td>\n",
       "      <td>False</td>\n",
       "      <td>False</td>\n",
       "    </tr>\n",
       "    <tr>\n",
       "      <th>Bipolar disorder (%)</th>\n",
       "      <td>False</td>\n",
       "      <td>True</td>\n",
       "      <td>True</td>\n",
       "      <td>True</td>\n",
       "      <td>False</td>\n",
       "      <td>False</td>\n",
       "      <td>False</td>\n",
       "      <td>False</td>\n",
       "      <td>False</td>\n",
       "      <td>False</td>\n",
       "      <td>False</td>\n",
       "      <td>False</td>\n",
       "      <td>False</td>\n",
       "      <td>False</td>\n",
       "      <td>False</td>\n",
       "    </tr>\n",
       "    <tr>\n",
       "      <th>Eating disorders (%)</th>\n",
       "      <td>False</td>\n",
       "      <td>True</td>\n",
       "      <td>True</td>\n",
       "      <td>False</td>\n",
       "      <td>False</td>\n",
       "      <td>False</td>\n",
       "      <td>False</td>\n",
       "      <td>False</td>\n",
       "      <td>True</td>\n",
       "      <td>False</td>\n",
       "      <td>False</td>\n",
       "      <td>False</td>\n",
       "      <td>False</td>\n",
       "      <td>False</td>\n",
       "      <td>False</td>\n",
       "    </tr>\n",
       "    <tr>\n",
       "      <th>Anxiety disorders (%)</th>\n",
       "      <td>False</td>\n",
       "      <td>True</td>\n",
       "      <td>False</td>\n",
       "      <td>True</td>\n",
       "      <td>False</td>\n",
       "      <td>False</td>\n",
       "      <td>False</td>\n",
       "      <td>False</td>\n",
       "      <td>False</td>\n",
       "      <td>False</td>\n",
       "      <td>False</td>\n",
       "      <td>False</td>\n",
       "      <td>False</td>\n",
       "      <td>False</td>\n",
       "      <td>False</td>\n",
       "    </tr>\n",
       "    <tr>\n",
       "      <th>Drug use disorders (%)</th>\n",
       "      <td>False</td>\n",
       "      <td>False</td>\n",
       "      <td>False</td>\n",
       "      <td>False</td>\n",
       "      <td>True</td>\n",
       "      <td>False</td>\n",
       "      <td>False</td>\n",
       "      <td>False</td>\n",
       "      <td>False</td>\n",
       "      <td>False</td>\n",
       "      <td>False</td>\n",
       "      <td>False</td>\n",
       "      <td>False</td>\n",
       "      <td>False</td>\n",
       "      <td>False</td>\n",
       "    </tr>\n",
       "    <tr>\n",
       "      <th>Depression (%)</th>\n",
       "      <td>False</td>\n",
       "      <td>False</td>\n",
       "      <td>False</td>\n",
       "      <td>False</td>\n",
       "      <td>False</td>\n",
       "      <td>True</td>\n",
       "      <td>False</td>\n",
       "      <td>False</td>\n",
       "      <td>False</td>\n",
       "      <td>False</td>\n",
       "      <td>False</td>\n",
       "      <td>False</td>\n",
       "      <td>False</td>\n",
       "      <td>False</td>\n",
       "      <td>False</td>\n",
       "    </tr>\n",
       "    <tr>\n",
       "      <th>Alcohol use disorders (%)</th>\n",
       "      <td>False</td>\n",
       "      <td>False</td>\n",
       "      <td>False</td>\n",
       "      <td>False</td>\n",
       "      <td>False</td>\n",
       "      <td>False</td>\n",
       "      <td>True</td>\n",
       "      <td>False</td>\n",
       "      <td>False</td>\n",
       "      <td>False</td>\n",
       "      <td>False</td>\n",
       "      <td>False</td>\n",
       "      <td>False</td>\n",
       "      <td>False</td>\n",
       "      <td>False</td>\n",
       "    </tr>\n",
       "    <tr>\n",
       "      <th>Unem_rate</th>\n",
       "      <td>False</td>\n",
       "      <td>False</td>\n",
       "      <td>False</td>\n",
       "      <td>False</td>\n",
       "      <td>False</td>\n",
       "      <td>False</td>\n",
       "      <td>False</td>\n",
       "      <td>True</td>\n",
       "      <td>False</td>\n",
       "      <td>False</td>\n",
       "      <td>False</td>\n",
       "      <td>False</td>\n",
       "      <td>False</td>\n",
       "      <td>False</td>\n",
       "      <td>False</td>\n",
       "    </tr>\n",
       "    <tr>\n",
       "      <th>GDP</th>\n",
       "      <td>False</td>\n",
       "      <td>False</td>\n",
       "      <td>True</td>\n",
       "      <td>False</td>\n",
       "      <td>False</td>\n",
       "      <td>False</td>\n",
       "      <td>False</td>\n",
       "      <td>False</td>\n",
       "      <td>True</td>\n",
       "      <td>False</td>\n",
       "      <td>False</td>\n",
       "      <td>False</td>\n",
       "      <td>False</td>\n",
       "      <td>True</td>\n",
       "      <td>False</td>\n",
       "    </tr>\n",
       "    <tr>\n",
       "      <th>Combined Suicide Rate</th>\n",
       "      <td>False</td>\n",
       "      <td>False</td>\n",
       "      <td>False</td>\n",
       "      <td>False</td>\n",
       "      <td>False</td>\n",
       "      <td>False</td>\n",
       "      <td>False</td>\n",
       "      <td>False</td>\n",
       "      <td>False</td>\n",
       "      <td>True</td>\n",
       "      <td>True</td>\n",
       "      <td>True</td>\n",
       "      <td>False</td>\n",
       "      <td>False</td>\n",
       "      <td>False</td>\n",
       "    </tr>\n",
       "    <tr>\n",
       "      <th>Male Suicide Rate</th>\n",
       "      <td>False</td>\n",
       "      <td>False</td>\n",
       "      <td>False</td>\n",
       "      <td>False</td>\n",
       "      <td>False</td>\n",
       "      <td>False</td>\n",
       "      <td>False</td>\n",
       "      <td>False</td>\n",
       "      <td>False</td>\n",
       "      <td>True</td>\n",
       "      <td>True</td>\n",
       "      <td>False</td>\n",
       "      <td>False</td>\n",
       "      <td>False</td>\n",
       "      <td>False</td>\n",
       "    </tr>\n",
       "    <tr>\n",
       "      <th>Female Suicide Rate</th>\n",
       "      <td>False</td>\n",
       "      <td>False</td>\n",
       "      <td>False</td>\n",
       "      <td>False</td>\n",
       "      <td>False</td>\n",
       "      <td>False</td>\n",
       "      <td>False</td>\n",
       "      <td>False</td>\n",
       "      <td>False</td>\n",
       "      <td>True</td>\n",
       "      <td>False</td>\n",
       "      <td>True</td>\n",
       "      <td>False</td>\n",
       "      <td>False</td>\n",
       "      <td>False</td>\n",
       "    </tr>\n",
       "    <tr>\n",
       "      <th>% Living in Cities &gt; 100k</th>\n",
       "      <td>False</td>\n",
       "      <td>False</td>\n",
       "      <td>False</td>\n",
       "      <td>False</td>\n",
       "      <td>False</td>\n",
       "      <td>False</td>\n",
       "      <td>False</td>\n",
       "      <td>False</td>\n",
       "      <td>False</td>\n",
       "      <td>False</td>\n",
       "      <td>False</td>\n",
       "      <td>False</td>\n",
       "      <td>True</td>\n",
       "      <td>False</td>\n",
       "      <td>False</td>\n",
       "    </tr>\n",
       "    <tr>\n",
       "      <th>% of Population with Internet Access</th>\n",
       "      <td>False</td>\n",
       "      <td>False</td>\n",
       "      <td>False</td>\n",
       "      <td>False</td>\n",
       "      <td>False</td>\n",
       "      <td>False</td>\n",
       "      <td>False</td>\n",
       "      <td>False</td>\n",
       "      <td>True</td>\n",
       "      <td>False</td>\n",
       "      <td>False</td>\n",
       "      <td>False</td>\n",
       "      <td>False</td>\n",
       "      <td>True</td>\n",
       "      <td>False</td>\n",
       "    </tr>\n",
       "    <tr>\n",
       "      <th>% Religious</th>\n",
       "      <td>False</td>\n",
       "      <td>False</td>\n",
       "      <td>False</td>\n",
       "      <td>False</td>\n",
       "      <td>False</td>\n",
       "      <td>False</td>\n",
       "      <td>False</td>\n",
       "      <td>False</td>\n",
       "      <td>False</td>\n",
       "      <td>False</td>\n",
       "      <td>False</td>\n",
       "      <td>False</td>\n",
       "      <td>False</td>\n",
       "      <td>False</td>\n",
       "      <td>True</td>\n",
       "    </tr>\n",
       "  </tbody>\n",
       "</table>\n",
       "</div>"
      ],
      "text/plain": [
       "                                      Schizophrenia (%)  Bipolar disorder (%)  \\\n",
       "Schizophrenia (%)                                  True                 False   \n",
       "Bipolar disorder (%)                              False                  True   \n",
       "Eating disorders (%)                              False                  True   \n",
       "Anxiety disorders (%)                             False                  True   \n",
       "Drug use disorders (%)                            False                 False   \n",
       "Depression (%)                                    False                 False   \n",
       "Alcohol use disorders (%)                         False                 False   \n",
       "Unem_rate                                         False                 False   \n",
       "GDP                                               False                 False   \n",
       "Combined Suicide Rate                             False                 False   \n",
       "Male Suicide Rate                                 False                 False   \n",
       "Female Suicide Rate                               False                 False   \n",
       "% Living in Cities > 100k                         False                 False   \n",
       "% of Population with Internet Access              False                 False   \n",
       "% Religious                                       False                 False   \n",
       "\n",
       "                                      Eating disorders (%)  \\\n",
       "Schizophrenia (%)                                    False   \n",
       "Bipolar disorder (%)                                  True   \n",
       "Eating disorders (%)                                  True   \n",
       "Anxiety disorders (%)                                False   \n",
       "Drug use disorders (%)                               False   \n",
       "Depression (%)                                       False   \n",
       "Alcohol use disorders (%)                            False   \n",
       "Unem_rate                                            False   \n",
       "GDP                                                   True   \n",
       "Combined Suicide Rate                                False   \n",
       "Male Suicide Rate                                    False   \n",
       "Female Suicide Rate                                  False   \n",
       "% Living in Cities > 100k                            False   \n",
       "% of Population with Internet Access                 False   \n",
       "% Religious                                          False   \n",
       "\n",
       "                                      Anxiety disorders (%)  \\\n",
       "Schizophrenia (%)                                     False   \n",
       "Bipolar disorder (%)                                   True   \n",
       "Eating disorders (%)                                  False   \n",
       "Anxiety disorders (%)                                  True   \n",
       "Drug use disorders (%)                                False   \n",
       "Depression (%)                                        False   \n",
       "Alcohol use disorders (%)                             False   \n",
       "Unem_rate                                             False   \n",
       "GDP                                                   False   \n",
       "Combined Suicide Rate                                 False   \n",
       "Male Suicide Rate                                     False   \n",
       "Female Suicide Rate                                   False   \n",
       "% Living in Cities > 100k                             False   \n",
       "% of Population with Internet Access                  False   \n",
       "% Religious                                           False   \n",
       "\n",
       "                                      Drug use disorders (%)  Depression (%)  \\\n",
       "Schizophrenia (%)                                      False           False   \n",
       "Bipolar disorder (%)                                   False           False   \n",
       "Eating disorders (%)                                   False           False   \n",
       "Anxiety disorders (%)                                  False           False   \n",
       "Drug use disorders (%)                                  True           False   \n",
       "Depression (%)                                         False            True   \n",
       "Alcohol use disorders (%)                              False           False   \n",
       "Unem_rate                                              False           False   \n",
       "GDP                                                    False           False   \n",
       "Combined Suicide Rate                                  False           False   \n",
       "Male Suicide Rate                                      False           False   \n",
       "Female Suicide Rate                                    False           False   \n",
       "% Living in Cities > 100k                              False           False   \n",
       "% of Population with Internet Access                   False           False   \n",
       "% Religious                                            False           False   \n",
       "\n",
       "                                      Alcohol use disorders (%)  Unem_rate  \\\n",
       "Schizophrenia (%)                                         False      False   \n",
       "Bipolar disorder (%)                                      False      False   \n",
       "Eating disorders (%)                                      False      False   \n",
       "Anxiety disorders (%)                                     False      False   \n",
       "Drug use disorders (%)                                    False      False   \n",
       "Depression (%)                                            False      False   \n",
       "Alcohol use disorders (%)                                  True      False   \n",
       "Unem_rate                                                 False       True   \n",
       "GDP                                                       False      False   \n",
       "Combined Suicide Rate                                     False      False   \n",
       "Male Suicide Rate                                         False      False   \n",
       "Female Suicide Rate                                       False      False   \n",
       "% Living in Cities > 100k                                 False      False   \n",
       "% of Population with Internet Access                      False      False   \n",
       "% Religious                                               False      False   \n",
       "\n",
       "                                        GDP  Combined Suicide Rate  \\\n",
       "Schizophrenia (%)                     False                  False   \n",
       "Bipolar disorder (%)                  False                  False   \n",
       "Eating disorders (%)                   True                  False   \n",
       "Anxiety disorders (%)                 False                  False   \n",
       "Drug use disorders (%)                False                  False   \n",
       "Depression (%)                        False                  False   \n",
       "Alcohol use disorders (%)             False                  False   \n",
       "Unem_rate                             False                  False   \n",
       "GDP                                    True                  False   \n",
       "Combined Suicide Rate                 False                   True   \n",
       "Male Suicide Rate                     False                   True   \n",
       "Female Suicide Rate                   False                   True   \n",
       "% Living in Cities > 100k             False                  False   \n",
       "% of Population with Internet Access   True                  False   \n",
       "% Religious                           False                  False   \n",
       "\n",
       "                                      Male Suicide Rate  Female Suicide Rate  \\\n",
       "Schizophrenia (%)                                 False                False   \n",
       "Bipolar disorder (%)                              False                False   \n",
       "Eating disorders (%)                              False                False   \n",
       "Anxiety disorders (%)                             False                False   \n",
       "Drug use disorders (%)                            False                False   \n",
       "Depression (%)                                    False                False   \n",
       "Alcohol use disorders (%)                         False                False   \n",
       "Unem_rate                                         False                False   \n",
       "GDP                                               False                False   \n",
       "Combined Suicide Rate                              True                 True   \n",
       "Male Suicide Rate                                  True                False   \n",
       "Female Suicide Rate                               False                 True   \n",
       "% Living in Cities > 100k                         False                False   \n",
       "% of Population with Internet Access              False                False   \n",
       "% Religious                                       False                False   \n",
       "\n",
       "                                      % Living in Cities > 100k  \\\n",
       "Schizophrenia (%)                                         False   \n",
       "Bipolar disorder (%)                                      False   \n",
       "Eating disorders (%)                                      False   \n",
       "Anxiety disorders (%)                                     False   \n",
       "Drug use disorders (%)                                    False   \n",
       "Depression (%)                                            False   \n",
       "Alcohol use disorders (%)                                 False   \n",
       "Unem_rate                                                 False   \n",
       "GDP                                                       False   \n",
       "Combined Suicide Rate                                     False   \n",
       "Male Suicide Rate                                         False   \n",
       "Female Suicide Rate                                       False   \n",
       "% Living in Cities > 100k                                  True   \n",
       "% of Population with Internet Access                      False   \n",
       "% Religious                                               False   \n",
       "\n",
       "                                      % of Population with Internet Access  \\\n",
       "Schizophrenia (%)                                                    False   \n",
       "Bipolar disorder (%)                                                 False   \n",
       "Eating disorders (%)                                                 False   \n",
       "Anxiety disorders (%)                                                False   \n",
       "Drug use disorders (%)                                               False   \n",
       "Depression (%)                                                       False   \n",
       "Alcohol use disorders (%)                                            False   \n",
       "Unem_rate                                                            False   \n",
       "GDP                                                                   True   \n",
       "Combined Suicide Rate                                                False   \n",
       "Male Suicide Rate                                                    False   \n",
       "Female Suicide Rate                                                  False   \n",
       "% Living in Cities > 100k                                            False   \n",
       "% of Population with Internet Access                                  True   \n",
       "% Religious                                                          False   \n",
       "\n",
       "                                      % Religious  \n",
       "Schizophrenia (%)                           False  \n",
       "Bipolar disorder (%)                        False  \n",
       "Eating disorders (%)                        False  \n",
       "Anxiety disorders (%)                       False  \n",
       "Drug use disorders (%)                      False  \n",
       "Depression (%)                              False  \n",
       "Alcohol use disorders (%)                   False  \n",
       "Unem_rate                                   False  \n",
       "GDP                                         False  \n",
       "Combined Suicide Rate                       False  \n",
       "Male Suicide Rate                           False  \n",
       "Female Suicide Rate                         False  \n",
       "% Living in Cities > 100k                   False  \n",
       "% of Population with Internet Access        False  \n",
       "% Religious                                  True  "
      ]
     },
     "execution_count": 37,
     "metadata": {},
     "output_type": "execute_result"
    }
   ],
   "source": [
    "abs(final_table.corr()) > 0.75"
   ]
  },
  {
   "cell_type": "code",
   "execution_count": 38,
   "metadata": {},
   "outputs": [
    {
     "data": {
      "text/plain": [
       "<matplotlib.axes._subplots.AxesSubplot at 0x1074c64e0>"
      ]
     },
     "execution_count": 38,
     "metadata": {},
     "output_type": "execute_result"
    },
    {
     "data": {
      "image/png": "[encoded data removed]",
      "text/plain": [
       "<Figure size 576x432 with 2 Axes>"
      ]
     },
     "metadata": {},
     "output_type": "display_data"
    }
   ],
   "source": [
    "import seaborn as sns\n",
    "plt.figure(figsize = (8,6))\n",
    "plt.title(\"Regular Variables Correlation Heatmap\", fontsize = 18, color = \"#F97E77\")\n",
    "sns.heatmap(final_table.corr(), center = 0)"
   ]
  },
  {
   "cell_type": "markdown",
   "metadata": {},
   "source": [
    "##### Drop \"Bipoar Disorder\" since it has very high corelation with 3 other variables."
   ]
  },
  {
   "cell_type": "code",
   "execution_count": 39,
   "metadata": {},
   "outputs": [],
   "source": [
    "final_table.drop(\"Bipolar disorder (%)\", axis = 1, inplace = True)"
   ]
  },
  {
   "cell_type": "markdown",
   "metadata": {},
   "source": [
    "##### Clean up Some Column Names with too many signs and letters"
   ]
  },
  {
   "cell_type": "code",
   "execution_count": 40,
   "metadata": {},
   "outputs": [],
   "source": [
    "final_table.rename(columns = {'Schizophrenia (%)': 'Schizophrenia'}, inplace = True)\n",
    "final_table.rename(columns = {'Eating disorders (%)': 'Eating_disorders'}, inplace = True)\n",
    "final_table.rename(columns = {'Anxiety disorders (%)': 'Anxiety'}, inplace = True)\n",
    "final_table.rename(columns = {'Drug use disorders (%)': 'Drug_use'}, inplace = True)\n",
    "final_table.rename(columns = {'Depression (%)': 'Depression'}, inplace = True)\n",
    "final_table.rename(columns = {'Alcohol use disorders (%)': 'Alcohol_use'}, inplace = True)\n",
    "final_table.rename(columns = {'Combined Suicide Rate': 'Combined_suicide_rate'}, inplace = True)\n",
    "final_table.rename(columns = {'% Living in Cities > 100k': 'urban_population'}, inplace = True)\n",
    "final_table.rename(columns = {'% of Population with Internet Access': 'Internet_access_percap'}, inplace = True)"
   ]
  },
  {
   "cell_type": "code",
   "execution_count": 41,
   "metadata": {},
   "outputs": [
    {
     "data": {
      "text/html": [
       "<div>\n",
       "<style scoped>\n",
       "    .dataframe tbody tr th:only-of-type {\n",
       "        vertical-align: middle;\n",
       "    }\n",
       "\n",
       "    .dataframe tbody tr th {\n",
       "        vertical-align: top;\n",
       "    }\n",
       "\n",
       "    .dataframe thead th {\n",
       "        text-align: right;\n",
       "    }\n",
       "</style>\n",
       "<table border=\"1\" class=\"dataframe\">\n",
       "  <thead>\n",
       "    <tr style=\"text-align: right;\">\n",
       "      <th></th>\n",
       "      <th>Code</th>\n",
       "      <th>Schizophrenia</th>\n",
       "      <th>Eating_disorders</th>\n",
       "      <th>Anxiety</th>\n",
       "      <th>Drug_use</th>\n",
       "      <th>Depression</th>\n",
       "      <th>Alcohol_use</th>\n",
       "      <th>Unem_rate</th>\n",
       "      <th>GDP</th>\n",
       "      <th>health_spend_perca</th>\n",
       "      <th>Combined_suicide_rate</th>\n",
       "      <th>Male Suicide Rate</th>\n",
       "      <th>Female Suicide Rate</th>\n",
       "      <th>urban_population</th>\n",
       "      <th>Internet_access_percap</th>\n",
       "      <th>% Religious</th>\n",
       "      <th>Religious</th>\n",
       "    </tr>\n",
       "    <tr>\n",
       "      <th>Entity</th>\n",
       "      <th></th>\n",
       "      <th></th>\n",
       "      <th></th>\n",
       "      <th></th>\n",
       "      <th></th>\n",
       "      <th></th>\n",
       "      <th></th>\n",
       "      <th></th>\n",
       "      <th></th>\n",
       "      <th></th>\n",
       "      <th></th>\n",
       "      <th></th>\n",
       "      <th></th>\n",
       "      <th></th>\n",
       "      <th></th>\n",
       "      <th></th>\n",
       "      <th></th>\n",
       "    </tr>\n",
       "  </thead>\n",
       "  <tbody>\n",
       "    <tr>\n",
       "      <th>Afghanistan</th>\n",
       "      <td>AFG</td>\n",
       "      <td>0.159494</td>\n",
       "      <td>0.088103</td>\n",
       "      <td>5.023055</td>\n",
       "      <td>1.196912</td>\n",
       "      <td>4.404727</td>\n",
       "      <td>0.612712</td>\n",
       "      <td>23.9</td>\n",
       "      <td>2000</td>\n",
       "      <td>57.2488</td>\n",
       "      <td>6.4</td>\n",
       "      <td>10.6</td>\n",
       "      <td>2.1</td>\n",
       "      <td>15.56</td>\n",
       "      <td>10.6</td>\n",
       "      <td>97.0</td>\n",
       "      <td>High</td>\n",
       "    </tr>\n",
       "    <tr>\n",
       "      <th>Albania</th>\n",
       "      <td>ALB</td>\n",
       "      <td>0.231592</td>\n",
       "      <td>0.113824</td>\n",
       "      <td>3.557997</td>\n",
       "      <td>0.655556</td>\n",
       "      <td>2.450883</td>\n",
       "      <td>1.669982</td>\n",
       "      <td>14.0</td>\n",
       "      <td>12500</td>\n",
       "      <td>271.543</td>\n",
       "      <td>5.6</td>\n",
       "      <td>7.0</td>\n",
       "      <td>4.3</td>\n",
       "      <td>9.34</td>\n",
       "      <td>66.4</td>\n",
       "      <td>32.5</td>\n",
       "      <td>Low</td>\n",
       "    </tr>\n",
       "    <tr>\n",
       "      <th>Algeria</th>\n",
       "      <td>DZA</td>\n",
       "      <td>0.199488</td>\n",
       "      <td>0.181441</td>\n",
       "      <td>5.249815</td>\n",
       "      <td>0.880553</td>\n",
       "      <td>3.946200</td>\n",
       "      <td>0.605362</td>\n",
       "      <td>11.7</td>\n",
       "      <td>15200</td>\n",
       "      <td>260.413</td>\n",
       "      <td>3.3</td>\n",
       "      <td>4.9</td>\n",
       "      <td>1.8</td>\n",
       "      <td>24.73</td>\n",
       "      <td>42.9</td>\n",
       "      <td>93.0</td>\n",
       "      <td>High</td>\n",
       "    </tr>\n",
       "    <tr>\n",
       "      <th>Angola</th>\n",
       "      <td>AGO</td>\n",
       "      <td>0.198776</td>\n",
       "      <td>0.113965</td>\n",
       "      <td>3.272275</td>\n",
       "      <td>0.467204</td>\n",
       "      <td>4.715467</td>\n",
       "      <td>1.456741</td>\n",
       "      <td>6.6</td>\n",
       "      <td>6800</td>\n",
       "      <td>95.2208</td>\n",
       "      <td>8.9</td>\n",
       "      <td>14.0</td>\n",
       "      <td>4.6</td>\n",
       "      <td>19.97</td>\n",
       "      <td>13.0</td>\n",
       "      <td>88.0</td>\n",
       "      <td>High</td>\n",
       "    </tr>\n",
       "    <tr>\n",
       "      <th>Antigua and Barbuda</th>\n",
       "      <td>ATG</td>\n",
       "      <td>0.210017</td>\n",
       "      <td>0.210369</td>\n",
       "      <td>4.316763</td>\n",
       "      <td>0.719728</td>\n",
       "      <td>3.128054</td>\n",
       "      <td>1.947655</td>\n",
       "      <td>11.0</td>\n",
       "      <td>26300</td>\n",
       "      <td>623.115</td>\n",
       "      <td>0.5</td>\n",
       "      <td>0.0</td>\n",
       "      <td>0.9</td>\n",
       "      <td>33.07</td>\n",
       "      <td>65.2</td>\n",
       "      <td>50.0</td>\n",
       "      <td>Medium</td>\n",
       "    </tr>\n",
       "  </tbody>\n",
       "</table>\n",
       "</div>"
      ],
      "text/plain": [
       "                    Code  Schizophrenia  Eating_disorders   Anxiety  Drug_use  \\\n",
       "Entity                                                                          \n",
       "Afghanistan          AFG       0.159494          0.088103  5.023055  1.196912   \n",
       "Albania              ALB       0.231592          0.113824  3.557997  0.655556   \n",
       "Algeria              DZA       0.199488          0.181441  5.249815  0.880553   \n",
       "Angola               AGO       0.198776          0.113965  3.272275  0.467204   \n",
       "Antigua and Barbuda  ATG       0.210017          0.210369  4.316763  0.719728   \n",
       "\n",
       "                     Depression  Alcohol_use  Unem_rate    GDP  \\\n",
       "Entity                                                           \n",
       "Afghanistan            4.404727     0.612712       23.9   2000   \n",
       "Albania                2.450883     1.669982       14.0  12500   \n",
       "Algeria                3.946200     0.605362       11.7  15200   \n",
       "Angola                 4.715467     1.456741        6.6   6800   \n",
       "Antigua and Barbuda    3.128054     1.947655       11.0  26300   \n",
       "\n",
       "                    health_spend_perca  Combined_suicide_rate  \\\n",
       "Entity                                                          \n",
       "Afghanistan                    57.2488                    6.4   \n",
       "Albania                        271.543                    5.6   \n",
       "Algeria                        260.413                    3.3   \n",
       "Angola                         95.2208                    8.9   \n",
       "Antigua and Barbuda            623.115                    0.5   \n",
       "\n",
       "                     Male Suicide Rate  Female Suicide Rate  urban_population  \\\n",
       "Entity                                                                          \n",
       "Afghanistan                       10.6                  2.1             15.56   \n",
       "Albania                            7.0                  4.3              9.34   \n",
       "Algeria                            4.9                  1.8             24.73   \n",
       "Angola                            14.0                  4.6             19.97   \n",
       "Antigua and Barbuda                0.0                  0.9             33.07   \n",
       "\n",
       "                     Internet_access_percap  % Religious Religious  \n",
       "Entity                                                              \n",
       "Afghanistan                            10.6         97.0      High  \n",
       "Albania                                66.4         32.5       Low  \n",
       "Algeria                                42.9         93.0      High  \n",
       "Angola                                 13.0         88.0      High  \n",
       "Antigua and Barbuda                    65.2         50.0    Medium  "
      ]
     },
     "execution_count": 41,
     "metadata": {},
     "output_type": "execute_result"
    }
   ],
   "source": [
    "final_table.head()"
   ]
  },
  {
   "cell_type": "code",
   "execution_count": 42,
   "metadata": {},
   "outputs": [
    {
     "data": {
      "text/plain": [
       "(148, 17)"
      ]
     },
     "execution_count": 42,
     "metadata": {},
     "output_type": "execute_result"
    }
   ],
   "source": [
    "final_table.shape"
   ]
  },
  {
   "cell_type": "markdown",
   "metadata": {},
   "source": [
    "##### Dropping columns we don't need"
   ]
  },
  {
   "cell_type": "code",
   "execution_count": 43,
   "metadata": {},
   "outputs": [],
   "source": [
    "test_table = final_table.drop(columns=['Code', \"Male Suicide Rate\", \"Female Suicide Rate\", \"% Religious\"])"
   ]
  },
  {
   "cell_type": "markdown",
   "metadata": {},
   "source": [
    "##### Changing health_spend_perca column to float64 so we can do calcualtions"
   ]
  },
  {
   "cell_type": "code",
   "execution_count": 44,
   "metadata": {},
   "outputs": [
    {
     "name": "stdout",
     "output_type": "stream",
     "text": [
      "<class 'pandas.core.frame.DataFrame'>\n",
      "Index: 148 entries, Afghanistan to Zimbabwe\n",
      "Data columns (total 13 columns):\n",
      "Schizophrenia             148 non-null float64\n",
      "Eating_disorders          148 non-null float64\n",
      "Anxiety                   148 non-null float64\n",
      "Drug_use                  148 non-null float64\n",
      "Depression                148 non-null float64\n",
      "Alcohol_use               148 non-null float64\n",
      "Unem_rate                 148 non-null float64\n",
      "GDP                       148 non-null int64\n",
      "health_spend_perca        148 non-null float64\n",
      "Combined_suicide_rate     148 non-null float64\n",
      "urban_population          148 non-null float64\n",
      "Internet_access_percap    148 non-null float64\n",
      "Religious                 148 non-null object\n",
      "dtypes: float64(11), int64(1), object(1)\n",
      "memory usage: 16.2+ KB\n"
     ]
    }
   ],
   "source": [
    "test_table.health_spend_perca = test_table.health_spend_perca.map(lambda x: float(x))\n",
    "test_table.info()"
   ]
  },
  {
   "cell_type": "markdown",
   "metadata": {},
   "source": [
    "##### Creating Dummy variables and dropping one of them plus the main category column"
   ]
  },
  {
   "cell_type": "code",
   "execution_count": 45,
   "metadata": {},
   "outputs": [],
   "source": [
    "dummies = pd.get_dummies(test_table['Religious'], prefix=\"Rel\")\n",
    "test_table = pd.concat([test_table, dummies], axis=1)\n",
    "test_table.drop(columns=['Religious', ], inplace=True)\n",
    "test_table.drop(columns=['Rel_Low'], inplace=True)"
   ]
  },
  {
   "cell_type": "markdown",
   "metadata": {},
   "source": [
    "##### Move target colum to the end of table for easier DataFrame navigation"
   ]
  },
  {
   "cell_type": "code",
   "execution_count": 46,
   "metadata": {},
   "outputs": [
    {
     "data": {
      "text/html": [
       "<div>\n",
       "<style scoped>\n",
       "    .dataframe tbody tr th:only-of-type {\n",
       "        vertical-align: middle;\n",
       "    }\n",
       "\n",
       "    .dataframe tbody tr th {\n",
       "        vertical-align: top;\n",
       "    }\n",
       "\n",
       "    .dataframe thead th {\n",
       "        text-align: right;\n",
       "    }\n",
       "</style>\n",
       "<table border=\"1\" class=\"dataframe\">\n",
       "  <thead>\n",
       "    <tr style=\"text-align: right;\">\n",
       "      <th></th>\n",
       "      <th>Schizophrenia</th>\n",
       "      <th>Eating_disorders</th>\n",
       "      <th>Anxiety</th>\n",
       "      <th>Drug_use</th>\n",
       "      <th>Depression</th>\n",
       "      <th>Alcohol_use</th>\n",
       "      <th>Unem_rate</th>\n",
       "      <th>GDP</th>\n",
       "      <th>health_spend_perca</th>\n",
       "      <th>urban_population</th>\n",
       "      <th>Internet_access_percap</th>\n",
       "      <th>Rel_High</th>\n",
       "      <th>Rel_Medium</th>\n",
       "      <th>Combined_suicide_rate</th>\n",
       "    </tr>\n",
       "    <tr>\n",
       "      <th>Entity</th>\n",
       "      <th></th>\n",
       "      <th></th>\n",
       "      <th></th>\n",
       "      <th></th>\n",
       "      <th></th>\n",
       "      <th></th>\n",
       "      <th></th>\n",
       "      <th></th>\n",
       "      <th></th>\n",
       "      <th></th>\n",
       "      <th></th>\n",
       "      <th></th>\n",
       "      <th></th>\n",
       "      <th></th>\n",
       "    </tr>\n",
       "  </thead>\n",
       "  <tbody>\n",
       "    <tr>\n",
       "      <th>Afghanistan</th>\n",
       "      <td>0.159494</td>\n",
       "      <td>0.088103</td>\n",
       "      <td>5.023055</td>\n",
       "      <td>1.196912</td>\n",
       "      <td>4.404727</td>\n",
       "      <td>0.612712</td>\n",
       "      <td>23.9</td>\n",
       "      <td>2000</td>\n",
       "      <td>57.248760</td>\n",
       "      <td>15.56</td>\n",
       "      <td>10.6</td>\n",
       "      <td>1</td>\n",
       "      <td>0</td>\n",
       "      <td>6.4</td>\n",
       "    </tr>\n",
       "    <tr>\n",
       "      <th>Albania</th>\n",
       "      <td>0.231592</td>\n",
       "      <td>0.113824</td>\n",
       "      <td>3.557997</td>\n",
       "      <td>0.655556</td>\n",
       "      <td>2.450883</td>\n",
       "      <td>1.669982</td>\n",
       "      <td>14.0</td>\n",
       "      <td>12500</td>\n",
       "      <td>271.543043</td>\n",
       "      <td>9.34</td>\n",
       "      <td>66.4</td>\n",
       "      <td>0</td>\n",
       "      <td>0</td>\n",
       "      <td>5.6</td>\n",
       "    </tr>\n",
       "    <tr>\n",
       "      <th>Algeria</th>\n",
       "      <td>0.199488</td>\n",
       "      <td>0.181441</td>\n",
       "      <td>5.249815</td>\n",
       "      <td>0.880553</td>\n",
       "      <td>3.946200</td>\n",
       "      <td>0.605362</td>\n",
       "      <td>11.7</td>\n",
       "      <td>15200</td>\n",
       "      <td>260.412579</td>\n",
       "      <td>24.73</td>\n",
       "      <td>42.9</td>\n",
       "      <td>1</td>\n",
       "      <td>0</td>\n",
       "      <td>3.3</td>\n",
       "    </tr>\n",
       "    <tr>\n",
       "      <th>Angola</th>\n",
       "      <td>0.198776</td>\n",
       "      <td>0.113965</td>\n",
       "      <td>3.272275</td>\n",
       "      <td>0.467204</td>\n",
       "      <td>4.715467</td>\n",
       "      <td>1.456741</td>\n",
       "      <td>6.6</td>\n",
       "      <td>6800</td>\n",
       "      <td>95.220799</td>\n",
       "      <td>19.97</td>\n",
       "      <td>13.0</td>\n",
       "      <td>1</td>\n",
       "      <td>0</td>\n",
       "      <td>8.9</td>\n",
       "    </tr>\n",
       "    <tr>\n",
       "      <th>Antigua and Barbuda</th>\n",
       "      <td>0.210017</td>\n",
       "      <td>0.210369</td>\n",
       "      <td>4.316763</td>\n",
       "      <td>0.719728</td>\n",
       "      <td>3.128054</td>\n",
       "      <td>1.947655</td>\n",
       "      <td>11.0</td>\n",
       "      <td>26300</td>\n",
       "      <td>623.114626</td>\n",
       "      <td>33.07</td>\n",
       "      <td>65.2</td>\n",
       "      <td>0</td>\n",
       "      <td>1</td>\n",
       "      <td>0.5</td>\n",
       "    </tr>\n",
       "  </tbody>\n",
       "</table>\n",
       "</div>"
      ],
      "text/plain": [
       "                     Schizophrenia  Eating_disorders   Anxiety  Drug_use  \\\n",
       "Entity                                                                     \n",
       "Afghanistan               0.159494          0.088103  5.023055  1.196912   \n",
       "Albania                   0.231592          0.113824  3.557997  0.655556   \n",
       "Algeria                   0.199488          0.181441  5.249815  0.880553   \n",
       "Angola                    0.198776          0.113965  3.272275  0.467204   \n",
       "Antigua and Barbuda       0.210017          0.210369  4.316763  0.719728   \n",
       "\n",
       "                     Depression  Alcohol_use  Unem_rate    GDP  \\\n",
       "Entity                                                           \n",
       "Afghanistan            4.404727     0.612712       23.9   2000   \n",
       "Albania                2.450883     1.669982       14.0  12500   \n",
       "Algeria                3.946200     0.605362       11.7  15200   \n",
       "Angola                 4.715467     1.456741        6.6   6800   \n",
       "Antigua and Barbuda    3.128054     1.947655       11.0  26300   \n",
       "\n",
       "                     health_spend_perca  urban_population  \\\n",
       "Entity                                                      \n",
       "Afghanistan                   57.248760             15.56   \n",
       "Albania                      271.543043              9.34   \n",
       "Algeria                      260.412579             24.73   \n",
       "Angola                        95.220799             19.97   \n",
       "Antigua and Barbuda          623.114626             33.07   \n",
       "\n",
       "                     Internet_access_percap  Rel_High  Rel_Medium  \\\n",
       "Entity                                                              \n",
       "Afghanistan                            10.6         1           0   \n",
       "Albania                                66.4         0           0   \n",
       "Algeria                                42.9         1           0   \n",
       "Angola                                 13.0         1           0   \n",
       "Antigua and Barbuda                    65.2         0           1   \n",
       "\n",
       "                     Combined_suicide_rate  \n",
       "Entity                                      \n",
       "Afghanistan                            6.4  \n",
       "Albania                                5.6  \n",
       "Algeria                                3.3  \n",
       "Angola                                 8.9  \n",
       "Antigua and Barbuda                    0.5  "
      ]
     },
     "execution_count": 46,
     "metadata": {},
     "output_type": "execute_result"
    }
   ],
   "source": [
    "target = test_table['Combined_suicide_rate']\n",
    "test_table.drop(columns=['Combined_suicide_rate'], inplace=True)\n",
    "test_table = pd.concat([test_table, target], axis=1)\n",
    "test_table.head()"
   ]
  },
  {
   "cell_type": "markdown",
   "metadata": {},
   "source": [
    "##### Plot a pairplot of dependent variable to independent variables scatterplot relationships"
   ]
  },
  {
   "cell_type": "code",
   "execution_count": 47,
   "metadata": {},
   "outputs": [
    {
     "data": {
      "text/plain": [
       "<seaborn.axisgrid.PairGrid at 0x1074c6e80>"
      ]
     },
     "execution_count": 47,
     "metadata": {},
     "output_type": "execute_result"
    },
    {
     "data": {
      "image/png": "[encoded data removed]",
      "text/plain": [
       "<Figure size 1260x180 with 7 Axes>"
      ]
     },
     "metadata": {},
     "output_type": "display_data"
    },
    {
     "data": {
      "image/png": "[encoded data removed]",
      "text/plain": [
       "<Figure size 1080x180 with 6 Axes>"
      ]
     },
     "metadata": {},
     "output_type": "display_data"
    }
   ],
   "source": [
    "import seaborn as sns\n",
    "import matplotlib.pyplot as plt\n",
    "%matplotlib inline\n",
    "\n",
    "variables = list(test_table.columns)[:-1]\n",
    "sns.pairplot(test_table, x_vars=variables[:7], y_vars=['Combined_suicide_rate'])\n",
    "sns.pairplot(test_table, x_vars=variables[7:], y_vars=['Combined_suicide_rate'])\n"
   ]
  },
  {
   "cell_type": "markdown",
   "metadata": {},
   "source": [
    "##### Starting our LinearRgegression process by creating a set of polynomial variables to the power = 2"
   ]
  },
  {
   "cell_type": "code",
   "execution_count": 48,
   "metadata": {},
   "outputs": [],
   "source": [
    "from sklearn.preprocessing import PolynomialFeatures\n",
    "from sklearn import preprocessing, pipeline\n",
    "\n",
    "poly = preprocessing.PolynomialFeatures(degree=2, interaction_only=False, include_bias=False)\n",
    "features_poly = pd.DataFrame(poly.fit_transform(test_table.drop(columns=['Combined_suicide_rate'])), columns=poly.get_feature_names(test_table.drop(columns=['Combined_suicide_rate']).columns))\n",
    "\n",
    "X_poly= features_poly\n",
    "y= test_table['Combined_suicide_rate']"
   ]
  },
  {
   "cell_type": "markdown",
   "metadata": {},
   "source": [
    "##### Check for Multicollinearity of the Polynomial variables"
   ]
  },
  {
   "cell_type": "code",
   "execution_count": 49,
   "metadata": {},
   "outputs": [
    {
     "data": {
      "text/plain": [
       "<matplotlib.axes._subplots.AxesSubplot at 0x1a17e2b940>"
      ]
     },
     "execution_count": 49,
     "metadata": {},
     "output_type": "execute_result"
    },
    {
     "data": {
      "image/png": "[encoded data removed]",
      "text/plain": [
       "<Figure size 792x648 with 2 Axes>"
      ]
     },
     "metadata": {},
     "output_type": "display_data"
    }
   ],
   "source": [
    "import seaborn as sns\n",
    "\n",
    "sns.set(style=\"white\")\n",
    "\n",
    "\n",
    "# Compute the correlation matrix\n",
    "corr = features_poly.corr()\n",
    "\n",
    "# Generate a mask for the upper triangle\n",
    "mask = np.zeros_like(corr, dtype=np.bool)\n",
    "mask[np.triu_indices_from(mask)] = True\n",
    "\n",
    "# Set up the matplotlib figure\n",
    "f, ax = plt.subplots(figsize=(11, 9))\n",
    "\n",
    "# Generate a custom diverging colormap\n",
    "cmap = sns.diverging_palette(220, 10, as_cmap=True)\n",
    "\n",
    "# Draw the heatmap with the mask and correct aspect ratio\n",
    "plt.title(\"Polynomials Correlation Heatmap\", fontsize = 30, color = \"#F97E77\")\n",
    "sns.heatmap(corr, mask=mask, cmap=cmap, vmax=.3, center=0,\n",
    "            square=True, linewidths=.5, cbar_kws={\"shrink\": .5})"
   ]
  },
  {
   "cell_type": "markdown",
   "metadata": {},
   "source": [
    "##### Drop any variable with a .corr() > 0.95"
   ]
  },
  {
   "cell_type": "code",
   "execution_count": 50,
   "metadata": {},
   "outputs": [
    {
     "data": {
      "text/plain": [
       "(148, 73)"
      ]
     },
     "execution_count": 50,
     "metadata": {},
     "output_type": "execute_result"
    }
   ],
   "source": [
    "# Create correlation matrix\n",
    "corr_matrix = features_poly.corr().abs()\n",
    "\n",
    "# Select upper triangle of correlation matrix\n",
    "upper = corr_matrix.where(np.triu(np.ones(corr_matrix.shape), k=1).astype(np.bool))\n",
    "\n",
    "# Find index of feature columns with correlation greater than 0.95\n",
    "to_drop = [column for column in upper.columns if any(upper[column] > 0.95)]\n",
    "\n",
    "#Drop variables from table\n",
    "X_poly.drop(columns=to_drop, inplace=True)\n",
    "X_poly.shape"
   ]
  },
  {
   "cell_type": "markdown",
   "metadata": {},
   "source": [
    "##### Run Linear Regression Model (80-20 split) and use Cross validation to find model with smallest RMSE"
   ]
  },
  {
   "cell_type": "code",
   "execution_count": 51,
   "metadata": {},
   "outputs": [
    {
     "data": {
      "text/plain": [
       "{'variables': ['Schizophrenia',\n",
       "  'Eating_disorders',\n",
       "  'Drug_use',\n",
       "  'Depression',\n",
       "  'Alcohol_use',\n",
       "  'Rel_High',\n",
       "  'Schizophrenia Drug_use',\n",
       "  'Schizophrenia Depression',\n",
       "  'Schizophrenia Alcohol_use',\n",
       "  'Eating_disorders Drug_use',\n",
       "  'Eating_disorders Rel_Medium',\n",
       "  'Anxiety Rel_High'],\n",
       " 'RMSE': 4.50314817549529,\n",
       " 'nu_var': 12}"
      ]
     },
     "execution_count": 51,
     "metadata": {},
     "output_type": "execute_result"
    }
   ],
   "source": [
    "from sklearn.model_selection import cross_val_score\n",
    "from sklearn.metrics import mean_squared_error\n",
    "from sklearn.model_selection import train_test_split\n",
    "from sklearn.linear_model import LinearRegression\n",
    "from sklearn.feature_selection import RFE\n",
    "\n",
    "X_poly = X_poly\n",
    "y = test_table['Combined_suicide_rate']\n",
    "\n",
    "def MSE_test(X_poly, y, random_state = 11):\n",
    "    poly_RSME = []\n",
    "    for i in range(1, len(X_poly.columns)):\n",
    "        linreg = LinearRegression()\n",
    "        selector = RFE(linreg, n_features_to_select = i)\n",
    "        selector = selector.fit(X_poly, y)\n",
    "        selected_columns = X_poly.columns[selector.support_]\n",
    "        selected_var = [column for column in selected_columns]\n",
    "        X_train, X_test, y_train, y_test = train_test_split(X_poly[selected_columns], y, random_state = random_state,  test_size=.20)\n",
    "        linreg.fit(X_train, y_train)\n",
    "        cv_50_results = np.mean(cross_val_score(linreg, X_train, y_train, cv=50, scoring='neg_mean_squared_error'))\n",
    "        cv_50_results= np.sqrt(abs(cv_50_results))\n",
    "        poly_RSME.append(dict(variables = selected_var, RMSE = cv_50_results, nu_var = len( selected_var)))\n",
    "    return poly_RSME\n",
    "\n",
    "poly_model_list = MSE_test(X_poly, y)\n",
    "\n",
    "def find_best_model(model_list):\n",
    "    sorted_mse = sorted(model_list, key=lambda k: k['RMSE'])\n",
    "    return sorted_mse[0]\n",
    "    \n",
    "find_best_model(poly_model_list)"
   ]
  },
  {
   "cell_type": "markdown",
   "metadata": {},
   "source": [
    "##### Graph the minimized RMSE agains number of selected variables"
   ]
  },
  {
   "cell_type": "code",
   "execution_count": 52,
   "metadata": {},
   "outputs": [
    {
     "data": {
      "text/plain": [
       "<matplotlib.legend.Legend at 0x1a195e9eb8>"
      ]
     },
     "execution_count": 52,
     "metadata": {},
     "output_type": "execute_result"
    },
    {
     "data": {
      "image/png": "[encoded data removed]",
      "text/plain": [
       "<Figure size 648x504 with 1 Axes>"
      ]
     },
     "metadata": {},
     "output_type": "display_data"
    }
   ],
   "source": [
    "import matplotlib.patches as mpatches\n",
    "\n",
    "min_rmse = find_best_model(poly_model_list)['RMSE']\n",
    "min_var = find_best_model(poly_model_list)['nu_var']\n",
    "x_val = [item['nu_var'] for item in poly_model_list[:35]]\n",
    "y_val = [item['RMSE'] for item in poly_model_list[:35]]\n",
    "plt.figure(figsize = (9,7))\n",
    "plt.title(\"Minimizing RMSE Function\", fontsize = 25, color = \"#073A5A\")\n",
    "plt.plot(x_val, y_val)\n",
    "plt.xlabel(\"Number of Independent Variables\", fontsize = 18, color = \"#073A5A\")\n",
    "plt.ylabel(\"RMSE\", fontsize = 18, color = \"#073A5A\")\n",
    "\n",
    "rmse_patch = mpatches.Patch(color='blue', label=\"RMSE = {}\".format(round(min_rmse, 3)))\n",
    "vars_patch = mpatches.Patch(color='green', label=\"Variables Chosen = {}\".format(min_var))\n",
    "plt.legend(handles=[rmse_patch, vars_patch])\n"
   ]
  },
  {
   "cell_type": "markdown",
   "metadata": {},
   "source": [
    "##### Now Test the model against the test data alone and return R2, z_score, and RMSE"
   ]
  },
  {
   "cell_type": "code",
   "execution_count": 53,
   "metadata": {},
   "outputs": [
    {
     "name": "stdout",
     "output_type": "stream",
     "text": [
      "RMSE = 3.7237785262479655, z_score = 0.6528359506725786, R_squared = 0.5738052215094305\n"
     ]
    }
   ],
   "source": [
    "selected_variables = find_best_model(poly_model_list)['variables']\n",
    "selected_variables\n",
    "X_train, X_test, y_train, y_test = train_test_split(X_poly[selected_variables], y, random_state = 11,  test_size=.20)\n",
    "linreg = LinearRegression()\n",
    "linreg.fit(X_train[selected_variables], y_train)\n",
    "yhat = linreg.predict(X_test[selected_variables])\n",
    "\n",
    "RMSE = np.sqrt(mean_squared_error(y_test, yhat))\n",
    "z_score = RMSE/np.std(y_test)\n",
    "R_squared = linreg.score(X_test, y_test)\n",
    "print(\"RMSE = {}, z_score = {}, R_squared = {}\".format(RMSE, z_score, R_squared))"
   ]
  },
  {
   "cell_type": "markdown",
   "metadata": {},
   "source": [
    "##### Graph our final results as a scatterplot of y_test and y_train values vs. y_hat_values and comparing Bias and Variance scores"
   ]
  },
  {
   "cell_type": "code",
   "execution_count": 54,
   "metadata": {},
   "outputs": [
    {
     "data": {
      "text/plain": [
       "<matplotlib.legend.Legend at 0x1a198e2438>"
      ]
     },
     "execution_count": 54,
     "metadata": {},
     "output_type": "execute_result"
    },
    {
     "data": {
      "image/png": "[encoded data removed]",
      "text/plain": [
       "<Figure size 1080x360 with 2 Axes>"
      ]
     },
     "metadata": {},
     "output_type": "display_data"
    }
   ],
   "source": [
    "import matplotlib.patches as mpatches\n",
    "\n",
    "def bias(y, y_hat):\n",
    "    return np.mean(y_hat - y)\n",
    "\n",
    "def variance(y_hat):\n",
    "    return np.mean([yi**2 for yi in y_hat]) - np.mean(y_hat)**2\n",
    "\n",
    "selected_columns = find_best_model(poly_model_list)['variables']\n",
    "X_train, X_test, y_train, y_test = train_test_split(X_poly[selected_columns], y, random_state = 11,  test_size=.20)\n",
    "\n",
    "reg = LinearRegression().fit(X_train, y_train)\n",
    "\n",
    "y_hat_train = reg.predict(X_train)\n",
    "y_hat_test = reg.predict(X_test)\n",
    "bias_train = bias(y_train, y_hat_train)\n",
    "bias_test = bias(y_test, y_hat_test)\n",
    "var_train = variance(y_hat_train)\n",
    "var_test = variance(y_hat_test)\n",
    "\n",
    "RMSE_train = np.sqrt(mean_squared_error(y_train, y_hat_train))\n",
    "z_score_train = RMSE/np.std(y_train)\n",
    "R_squared_train = linreg.score(X_train, y_train)\n",
    "\n",
    "f, (ax1, ax2) = plt.subplots(1, 2, sharey=True, figsize = (15,5))\n",
    "\n",
    "ax1.set_title(\"Polynomial y_hat vs y_train\", fontsize = 16)\n",
    "ax1.set_xlabel(\"y_train\",fontsize = 14, color = \"#073A5A\")\n",
    "ax1.set_ylabel(\"y_hat_train\",fontsize = 14, color = \"#073A5A\")\n",
    "ax1.scatter(y_train, y_hat_train, color = \"blue\", label='Actual Data')\n",
    "ax1.plot(y_train, y_train, color = \"red\", label='Model')\n",
    "\n",
    "R2_patch = mpatches.Patch(color='#aaff80', label=\"R_squared_train = {}\".format(round(R_squared_train, 3)))\n",
    "RMSE_patch = mpatches.Patch(color='#ffd480', label=\"RMSE_train = {}\".format(round(RMSE_train, 3)))\n",
    "z_patch = mpatches.Patch(color='#00cccc', label=\"z_score_train = {}\".format(round(z_score_train, 3)))\n",
    "Bias_patch = mpatches.Patch(color='#670000', label=\"Bias_train = {}\".format(round(bias_train, 20)))\n",
    "Variance_patch = mpatches.Patch(color='#7A9A01', label=\"Var_train = {}\".format(round(var_train, 3)))\n",
    "\n",
    "ax1.legend(handles=[R2_patch, RMSE_patch, z_patch, Bias_patch, Variance_patch])\n",
    "\n",
    "ax2.set_title(\"Polynomial y_hat_train vs y_test\", fontsize = 16)\n",
    "ax2.set_xlabel(\"y_test\", fontsize = 14, color = \"#073A5A\")\n",
    "ax2.set_ylabel(\"y_hat_test\", fontsize = 14, color = \"#073A5A\")\n",
    "ax2.scatter(y_test, y_hat_test, color = \"blue\")\n",
    "ax2.plot(y_test, y_test, color = \"red\")\n",
    "\n",
    "R2_patch = mpatches.Patch(color='#aaff80', label=\"R_squared = {}\".format(round(R_squared, 3)))\n",
    "RMSE_patch = mpatches.Patch(color='#ffd480', label=\"RMSE = {}\".format(round(RMSE, 3)))\n",
    "z_patch = mpatches.Patch(color='#00cccc', label=\"z_score = {}\".format(round(z_score, 3)))\n",
    "Bias_patch = mpatches.Patch(color='#670000', label=\"Bias = {}\".format(round(bias_test, 3)))\n",
    "Variance_patch = mpatches.Patch(color='#7A9A01', label=\"Var = {}\".format(round(var_test, 3)))\n",
    "\n",
    "ax2.legend(handles=[R2_patch, RMSE_patch, z_patch,  Bias_patch, Variance_patch], loc = \"upper left\")\n",
    "\n"
   ]
  },
  {
   "cell_type": "markdown",
   "metadata": {},
   "source": [
    "##### Print our final equation to get a sense of individual variable relationships"
   ]
  },
  {
   "cell_type": "code",
   "execution_count": 55,
   "metadata": {},
   "outputs": [],
   "source": [
    "test = list(zip(linreg.coef_, selected_variables))\n",
    "combined = [str(round(item[0], 2)) + \"*\" +item[1] for item in test]\n",
    "one_string = \"  +  \".join(combined)\n",
    "equation = one_string.replace(\"+  -\", \"-  \")"
   ]
  },
  {
   "cell_type": "code",
   "execution_count": 56,
   "metadata": {
    "scrolled": true
   },
   "outputs": [
    {
     "name": "stdout",
     "output_type": "stream",
     "text": [
      "y = -40.77 + 133.96*Schizophrenia  +  20.41*Eating_disorders  -  7.3*Drug_use  +  13.12*Depression  +  6.71*Alcohol_use  +  4.92*Rel_High  +  45.19*Schizophrenia Drug_use  -  41.29*Schizophrenia Depression  -  18.44*Schizophrenia Alcohol_use  -  17.52*Eating_disorders Drug_use  -  2.92*Eating_disorders Rel_Medium  -  1.91*Anxiety Rel_High\n"
     ]
    }
   ],
   "source": [
    "print(\"y = {} + {}\".format(round(linreg.intercept_, 2), equation))"
   ]
  },
  {
   "cell_type": "markdown",
   "metadata": {},
   "source": [
    "##### Plot a Barchart of Independent variables to visualize Variable weight"
   ]
  },
  {
   "cell_type": "code",
   "execution_count": 57,
   "metadata": {},
   "outputs": [
    {
     "data": {
      "text/plain": [
       "<BarContainer object of 12 artists>"
      ]
     },
     "execution_count": 57,
     "metadata": {},
     "output_type": "execute_result"
    },
    {
     "data": {
      "image/png": "[encoded data removed]",
      "text/plain": [
       "<Figure size 648x504 with 1 Axes>"
      ]
     },
     "metadata": {},
     "output_type": "display_data"
    }
   ],
   "source": [
    "coefs = [item[0] for item in test]\n",
    "varias = [item[1] for item in test]\n",
    "plt.figure(figsize = (9,7))\n",
    "plt.title(\"Independent Variables Chart\", fontsize = 30, color = \"#535355\")\n",
    "plt.xlabel(\"Independent Variable\", fontsize = 18, color = \"#050594\")\n",
    "plt.ylabel(\"Coefficient Size\", fontsize = 18, color = \"#050594\")\n",
    "plt.xticks(rotation=90)\n",
    "plt.bar(varias, coefs)\n"
   ]
  },
  {
   "cell_type": "markdown",
   "metadata": {},
   "source": [
    "###                                        HURRAY!!!  WE DONE!!!"
   ]
  }
 ],
 "metadata": {
  "kernelspec": {
   "display_name": "Python 3",
   "language": "python",
   "name": "python3"
  },
  "language_info": {
   "codemirror_mode": {
    "name": "ipython",
    "version": 3
   },
   "file_extension": ".py",
   "mimetype": "text/x-python",
   "name": "python",
   "nbconvert_exporter": "python",
   "pygments_lexer": "ipython3",
   "version": "3.6.5"
  }
 },
 "nbformat": 4,
 "nbformat_minor": 2
}
